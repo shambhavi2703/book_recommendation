{
 "cells": [
  {
   "cell_type": "markdown",
   "id": "23914a9a",
   "metadata": {},
   "source": [
    "# BOOK RECOMENDATION SYSTEM "
   ]
  },
  {
   "cell_type": "markdown",
   "id": "57ffb524",
   "metadata": {},
   "source": [
    "The book recommendation system is designed to suggest books to users based on their age, average rating of books, collaborative filtering, and nearest neighbor algorithms. The system uses the age and average rating of books to recommend books to users that fit their age group and preferred rating range."
   ]
  },
  {
   "cell_type": "code",
   "execution_count": 113,
   "id": "5b413ee9",
   "metadata": {},
   "outputs": [],
   "source": [
    "## importing libraries\n",
    "import datetime\n",
    "import numpy as np\n",
    "import pandas as pd\n",
    "import seaborn as sns\n",
    "import matplotlib.pyplot as plt\n",
    "import warnings\n",
    "warnings.filterwarnings(\"ignore\")"
   ]
  },
  {
   "cell_type": "code",
   "execution_count": 300,
   "id": "1dac1c25",
   "metadata": {},
   "outputs": [],
   "source": [
    "# Import Datasets\n",
    "users_df = pd.read_csv(\"BX-Users.csv\", sep=\";\", error_bad_lines=False, encoding=\"latin-1\",warn_bad_lines=False)\n",
    "\n",
    "books_df = pd.read_csv(\"BX-Books.csv\", sep=\";\", error_bad_lines=False, encoding=\"latin-1\",warn_bad_lines=False)\n",
    "\n",
    "ratings_df = pd.read_csv(\"BX-Book-Ratings.csv\", sep=\";\", error_bad_lines=False, encoding=\"latin-1\",warn_bad_lines=False)\n"
   ]
  },
  {
   "cell_type": "code",
   "execution_count": 115,
   "id": "2ac8bd65",
   "metadata": {},
   "outputs": [
    {
     "data": {
      "text/html": [
       "<div>\n",
       "<style scoped>\n",
       "    .dataframe tbody tr th:only-of-type {\n",
       "        vertical-align: middle;\n",
       "    }\n",
       "\n",
       "    .dataframe tbody tr th {\n",
       "        vertical-align: top;\n",
       "    }\n",
       "\n",
       "    .dataframe thead th {\n",
       "        text-align: right;\n",
       "    }\n",
       "</style>\n",
       "<table border=\"1\" class=\"dataframe\">\n",
       "  <thead>\n",
       "    <tr style=\"text-align: right;\">\n",
       "      <th></th>\n",
       "      <th>User-ID</th>\n",
       "      <th>Location</th>\n",
       "      <th>Age</th>\n",
       "    </tr>\n",
       "  </thead>\n",
       "  <tbody>\n",
       "    <tr>\n",
       "      <th>0</th>\n",
       "      <td>1</td>\n",
       "      <td>nyc, new york, usa</td>\n",
       "      <td>NaN</td>\n",
       "    </tr>\n",
       "    <tr>\n",
       "      <th>1</th>\n",
       "      <td>2</td>\n",
       "      <td>stockton, california, usa</td>\n",
       "      <td>18.0</td>\n",
       "    </tr>\n",
       "    <tr>\n",
       "      <th>2</th>\n",
       "      <td>3</td>\n",
       "      <td>moscow, yukon territory, russia</td>\n",
       "      <td>NaN</td>\n",
       "    </tr>\n",
       "    <tr>\n",
       "      <th>3</th>\n",
       "      <td>4</td>\n",
       "      <td>porto, v.n.gaia, portugal</td>\n",
       "      <td>17.0</td>\n",
       "    </tr>\n",
       "    <tr>\n",
       "      <th>4</th>\n",
       "      <td>5</td>\n",
       "      <td>farnborough, hants, united kingdom</td>\n",
       "      <td>NaN</td>\n",
       "    </tr>\n",
       "  </tbody>\n",
       "</table>\n",
       "</div>"
      ],
      "text/plain": [
       "   User-ID                            Location   Age\n",
       "0        1                  nyc, new york, usa   NaN\n",
       "1        2           stockton, california, usa  18.0\n",
       "2        3     moscow, yukon territory, russia   NaN\n",
       "3        4           porto, v.n.gaia, portugal  17.0\n",
       "4        5  farnborough, hants, united kingdom   NaN"
      ]
     },
     "execution_count": 115,
     "metadata": {},
     "output_type": "execute_result"
    }
   ],
   "source": [
    "users_df.head()"
   ]
  },
  {
   "cell_type": "code",
   "execution_count": 116,
   "id": "86ba1c3e",
   "metadata": {},
   "outputs": [
    {
     "data": {
      "text/html": [
       "<div>\n",
       "<style scoped>\n",
       "    .dataframe tbody tr th:only-of-type {\n",
       "        vertical-align: middle;\n",
       "    }\n",
       "\n",
       "    .dataframe tbody tr th {\n",
       "        vertical-align: top;\n",
       "    }\n",
       "\n",
       "    .dataframe thead th {\n",
       "        text-align: right;\n",
       "    }\n",
       "</style>\n",
       "<table border=\"1\" class=\"dataframe\">\n",
       "  <thead>\n",
       "    <tr style=\"text-align: right;\">\n",
       "      <th></th>\n",
       "      <th>ISBN</th>\n",
       "      <th>Book-Title</th>\n",
       "      <th>Book-Author</th>\n",
       "      <th>Year-Of-Publication</th>\n",
       "      <th>Publisher</th>\n",
       "      <th>Image-URL-S</th>\n",
       "      <th>Image-URL-M</th>\n",
       "      <th>Image-URL-L</th>\n",
       "    </tr>\n",
       "  </thead>\n",
       "  <tbody>\n",
       "    <tr>\n",
       "      <th>0</th>\n",
       "      <td>0195153448</td>\n",
       "      <td>Classical Mythology</td>\n",
       "      <td>Mark P. O. Morford</td>\n",
       "      <td>2002</td>\n",
       "      <td>Oxford University Press</td>\n",
       "      <td>http://images.amazon.com/images/P/0195153448.0...</td>\n",
       "      <td>http://images.amazon.com/images/P/0195153448.0...</td>\n",
       "      <td>http://images.amazon.com/images/P/0195153448.0...</td>\n",
       "    </tr>\n",
       "    <tr>\n",
       "      <th>1</th>\n",
       "      <td>0002005018</td>\n",
       "      <td>Clara Callan</td>\n",
       "      <td>Richard Bruce Wright</td>\n",
       "      <td>2001</td>\n",
       "      <td>HarperFlamingo Canada</td>\n",
       "      <td>http://images.amazon.com/images/P/0002005018.0...</td>\n",
       "      <td>http://images.amazon.com/images/P/0002005018.0...</td>\n",
       "      <td>http://images.amazon.com/images/P/0002005018.0...</td>\n",
       "    </tr>\n",
       "    <tr>\n",
       "      <th>2</th>\n",
       "      <td>0060973129</td>\n",
       "      <td>Decision in Normandy</td>\n",
       "      <td>Carlo D'Este</td>\n",
       "      <td>1991</td>\n",
       "      <td>HarperPerennial</td>\n",
       "      <td>http://images.amazon.com/images/P/0060973129.0...</td>\n",
       "      <td>http://images.amazon.com/images/P/0060973129.0...</td>\n",
       "      <td>http://images.amazon.com/images/P/0060973129.0...</td>\n",
       "    </tr>\n",
       "    <tr>\n",
       "      <th>3</th>\n",
       "      <td>0374157065</td>\n",
       "      <td>Flu: The Story of the Great Influenza Pandemic...</td>\n",
       "      <td>Gina Bari Kolata</td>\n",
       "      <td>1999</td>\n",
       "      <td>Farrar Straus Giroux</td>\n",
       "      <td>http://images.amazon.com/images/P/0374157065.0...</td>\n",
       "      <td>http://images.amazon.com/images/P/0374157065.0...</td>\n",
       "      <td>http://images.amazon.com/images/P/0374157065.0...</td>\n",
       "    </tr>\n",
       "    <tr>\n",
       "      <th>4</th>\n",
       "      <td>0393045218</td>\n",
       "      <td>The Mummies of Urumchi</td>\n",
       "      <td>E. J. W. Barber</td>\n",
       "      <td>1999</td>\n",
       "      <td>W. W. Norton &amp;amp; Company</td>\n",
       "      <td>http://images.amazon.com/images/P/0393045218.0...</td>\n",
       "      <td>http://images.amazon.com/images/P/0393045218.0...</td>\n",
       "      <td>http://images.amazon.com/images/P/0393045218.0...</td>\n",
       "    </tr>\n",
       "  </tbody>\n",
       "</table>\n",
       "</div>"
      ],
      "text/plain": [
       "         ISBN                                         Book-Title  \\\n",
       "0  0195153448                                Classical Mythology   \n",
       "1  0002005018                                       Clara Callan   \n",
       "2  0060973129                               Decision in Normandy   \n",
       "3  0374157065  Flu: The Story of the Great Influenza Pandemic...   \n",
       "4  0393045218                             The Mummies of Urumchi   \n",
       "\n",
       "            Book-Author Year-Of-Publication                   Publisher  \\\n",
       "0    Mark P. O. Morford                2002     Oxford University Press   \n",
       "1  Richard Bruce Wright                2001       HarperFlamingo Canada   \n",
       "2          Carlo D'Este                1991             HarperPerennial   \n",
       "3      Gina Bari Kolata                1999        Farrar Straus Giroux   \n",
       "4       E. J. W. Barber                1999  W. W. Norton &amp; Company   \n",
       "\n",
       "                                         Image-URL-S  \\\n",
       "0  http://images.amazon.com/images/P/0195153448.0...   \n",
       "1  http://images.amazon.com/images/P/0002005018.0...   \n",
       "2  http://images.amazon.com/images/P/0060973129.0...   \n",
       "3  http://images.amazon.com/images/P/0374157065.0...   \n",
       "4  http://images.amazon.com/images/P/0393045218.0...   \n",
       "\n",
       "                                         Image-URL-M  \\\n",
       "0  http://images.amazon.com/images/P/0195153448.0...   \n",
       "1  http://images.amazon.com/images/P/0002005018.0...   \n",
       "2  http://images.amazon.com/images/P/0060973129.0...   \n",
       "3  http://images.amazon.com/images/P/0374157065.0...   \n",
       "4  http://images.amazon.com/images/P/0393045218.0...   \n",
       "\n",
       "                                         Image-URL-L  \n",
       "0  http://images.amazon.com/images/P/0195153448.0...  \n",
       "1  http://images.amazon.com/images/P/0002005018.0...  \n",
       "2  http://images.amazon.com/images/P/0060973129.0...  \n",
       "3  http://images.amazon.com/images/P/0374157065.0...  \n",
       "4  http://images.amazon.com/images/P/0393045218.0...  "
      ]
     },
     "execution_count": 116,
     "metadata": {},
     "output_type": "execute_result"
    }
   ],
   "source": [
    "books_df.head()"
   ]
  },
  {
   "cell_type": "code",
   "execution_count": 117,
   "id": "6959edc9",
   "metadata": {},
   "outputs": [
    {
     "data": {
      "text/html": [
       "<div>\n",
       "<style scoped>\n",
       "    .dataframe tbody tr th:only-of-type {\n",
       "        vertical-align: middle;\n",
       "    }\n",
       "\n",
       "    .dataframe tbody tr th {\n",
       "        vertical-align: top;\n",
       "    }\n",
       "\n",
       "    .dataframe thead th {\n",
       "        text-align: right;\n",
       "    }\n",
       "</style>\n",
       "<table border=\"1\" class=\"dataframe\">\n",
       "  <thead>\n",
       "    <tr style=\"text-align: right;\">\n",
       "      <th></th>\n",
       "      <th>User-ID</th>\n",
       "      <th>ISBN</th>\n",
       "      <th>Book-Rating</th>\n",
       "    </tr>\n",
       "  </thead>\n",
       "  <tbody>\n",
       "    <tr>\n",
       "      <th>0</th>\n",
       "      <td>276725</td>\n",
       "      <td>034545104X</td>\n",
       "      <td>0</td>\n",
       "    </tr>\n",
       "    <tr>\n",
       "      <th>1</th>\n",
       "      <td>276726</td>\n",
       "      <td>0155061224</td>\n",
       "      <td>5</td>\n",
       "    </tr>\n",
       "    <tr>\n",
       "      <th>2</th>\n",
       "      <td>276727</td>\n",
       "      <td>0446520802</td>\n",
       "      <td>0</td>\n",
       "    </tr>\n",
       "    <tr>\n",
       "      <th>3</th>\n",
       "      <td>276729</td>\n",
       "      <td>052165615X</td>\n",
       "      <td>3</td>\n",
       "    </tr>\n",
       "    <tr>\n",
       "      <th>4</th>\n",
       "      <td>276729</td>\n",
       "      <td>0521795028</td>\n",
       "      <td>6</td>\n",
       "    </tr>\n",
       "  </tbody>\n",
       "</table>\n",
       "</div>"
      ],
      "text/plain": [
       "   User-ID        ISBN  Book-Rating\n",
       "0   276725  034545104X            0\n",
       "1   276726  0155061224            5\n",
       "2   276727  0446520802            0\n",
       "3   276729  052165615X            3\n",
       "4   276729  0521795028            6"
      ]
     },
     "execution_count": 117,
     "metadata": {},
     "output_type": "execute_result"
    }
   ],
   "source": [
    "ratings_df.head()"
   ]
  },
  {
   "cell_type": "markdown",
   "id": "7bea8c76",
   "metadata": {},
   "source": [
    "### Merging the Dataframes"
   ]
  },
  {
   "cell_type": "code",
   "execution_count": 118,
   "id": "3d7c0efd",
   "metadata": {},
   "outputs": [
    {
     "data": {
      "text/html": [
       "<div>\n",
       "<style scoped>\n",
       "    .dataframe tbody tr th:only-of-type {\n",
       "        vertical-align: middle;\n",
       "    }\n",
       "\n",
       "    .dataframe tbody tr th {\n",
       "        vertical-align: top;\n",
       "    }\n",
       "\n",
       "    .dataframe thead th {\n",
       "        text-align: right;\n",
       "    }\n",
       "</style>\n",
       "<table border=\"1\" class=\"dataframe\">\n",
       "  <thead>\n",
       "    <tr style=\"text-align: right;\">\n",
       "      <th></th>\n",
       "      <th>User-ID</th>\n",
       "      <th>Location</th>\n",
       "      <th>Age</th>\n",
       "      <th>ISBN</th>\n",
       "      <th>Book-Rating</th>\n",
       "      <th>Book-Title</th>\n",
       "      <th>Book-Author</th>\n",
       "      <th>Year-Of-Publication</th>\n",
       "      <th>Publisher</th>\n",
       "      <th>Image-URL-S</th>\n",
       "      <th>Image-URL-M</th>\n",
       "      <th>Image-URL-L</th>\n",
       "    </tr>\n",
       "  </thead>\n",
       "  <tbody>\n",
       "    <tr>\n",
       "      <th>0</th>\n",
       "      <td>2</td>\n",
       "      <td>stockton, california, usa</td>\n",
       "      <td>18.0</td>\n",
       "      <td>0195153448</td>\n",
       "      <td>0</td>\n",
       "      <td>Classical Mythology</td>\n",
       "      <td>Mark P. O. Morford</td>\n",
       "      <td>2002</td>\n",
       "      <td>Oxford University Press</td>\n",
       "      <td>http://images.amazon.com/images/P/0195153448.0...</td>\n",
       "      <td>http://images.amazon.com/images/P/0195153448.0...</td>\n",
       "      <td>http://images.amazon.com/images/P/0195153448.0...</td>\n",
       "    </tr>\n",
       "    <tr>\n",
       "      <th>1</th>\n",
       "      <td>8</td>\n",
       "      <td>timmins, ontario, canada</td>\n",
       "      <td>NaN</td>\n",
       "      <td>0002005018</td>\n",
       "      <td>5</td>\n",
       "      <td>Clara Callan</td>\n",
       "      <td>Richard Bruce Wright</td>\n",
       "      <td>2001</td>\n",
       "      <td>HarperFlamingo Canada</td>\n",
       "      <td>http://images.amazon.com/images/P/0002005018.0...</td>\n",
       "      <td>http://images.amazon.com/images/P/0002005018.0...</td>\n",
       "      <td>http://images.amazon.com/images/P/0002005018.0...</td>\n",
       "    </tr>\n",
       "    <tr>\n",
       "      <th>2</th>\n",
       "      <td>11400</td>\n",
       "      <td>ottawa, ontario, canada</td>\n",
       "      <td>49.0</td>\n",
       "      <td>0002005018</td>\n",
       "      <td>0</td>\n",
       "      <td>Clara Callan</td>\n",
       "      <td>Richard Bruce Wright</td>\n",
       "      <td>2001</td>\n",
       "      <td>HarperFlamingo Canada</td>\n",
       "      <td>http://images.amazon.com/images/P/0002005018.0...</td>\n",
       "      <td>http://images.amazon.com/images/P/0002005018.0...</td>\n",
       "      <td>http://images.amazon.com/images/P/0002005018.0...</td>\n",
       "    </tr>\n",
       "    <tr>\n",
       "      <th>3</th>\n",
       "      <td>11676</td>\n",
       "      <td>n/a, n/a, n/a</td>\n",
       "      <td>NaN</td>\n",
       "      <td>0002005018</td>\n",
       "      <td>8</td>\n",
       "      <td>Clara Callan</td>\n",
       "      <td>Richard Bruce Wright</td>\n",
       "      <td>2001</td>\n",
       "      <td>HarperFlamingo Canada</td>\n",
       "      <td>http://images.amazon.com/images/P/0002005018.0...</td>\n",
       "      <td>http://images.amazon.com/images/P/0002005018.0...</td>\n",
       "      <td>http://images.amazon.com/images/P/0002005018.0...</td>\n",
       "    </tr>\n",
       "    <tr>\n",
       "      <th>4</th>\n",
       "      <td>41385</td>\n",
       "      <td>sudbury, ontario, canada</td>\n",
       "      <td>NaN</td>\n",
       "      <td>0002005018</td>\n",
       "      <td>0</td>\n",
       "      <td>Clara Callan</td>\n",
       "      <td>Richard Bruce Wright</td>\n",
       "      <td>2001</td>\n",
       "      <td>HarperFlamingo Canada</td>\n",
       "      <td>http://images.amazon.com/images/P/0002005018.0...</td>\n",
       "      <td>http://images.amazon.com/images/P/0002005018.0...</td>\n",
       "      <td>http://images.amazon.com/images/P/0002005018.0...</td>\n",
       "    </tr>\n",
       "  </tbody>\n",
       "</table>\n",
       "</div>"
      ],
      "text/plain": [
       "   User-ID                   Location   Age        ISBN  Book-Rating  \\\n",
       "0        2  stockton, california, usa  18.0  0195153448            0   \n",
       "1        8   timmins, ontario, canada   NaN  0002005018            5   \n",
       "2    11400    ottawa, ontario, canada  49.0  0002005018            0   \n",
       "3    11676              n/a, n/a, n/a   NaN  0002005018            8   \n",
       "4    41385   sudbury, ontario, canada   NaN  0002005018            0   \n",
       "\n",
       "            Book-Title           Book-Author Year-Of-Publication  \\\n",
       "0  Classical Mythology    Mark P. O. Morford                2002   \n",
       "1         Clara Callan  Richard Bruce Wright                2001   \n",
       "2         Clara Callan  Richard Bruce Wright                2001   \n",
       "3         Clara Callan  Richard Bruce Wright                2001   \n",
       "4         Clara Callan  Richard Bruce Wright                2001   \n",
       "\n",
       "                 Publisher                                        Image-URL-S  \\\n",
       "0  Oxford University Press  http://images.amazon.com/images/P/0195153448.0...   \n",
       "1    HarperFlamingo Canada  http://images.amazon.com/images/P/0002005018.0...   \n",
       "2    HarperFlamingo Canada  http://images.amazon.com/images/P/0002005018.0...   \n",
       "3    HarperFlamingo Canada  http://images.amazon.com/images/P/0002005018.0...   \n",
       "4    HarperFlamingo Canada  http://images.amazon.com/images/P/0002005018.0...   \n",
       "\n",
       "                                         Image-URL-M  \\\n",
       "0  http://images.amazon.com/images/P/0195153448.0...   \n",
       "1  http://images.amazon.com/images/P/0002005018.0...   \n",
       "2  http://images.amazon.com/images/P/0002005018.0...   \n",
       "3  http://images.amazon.com/images/P/0002005018.0...   \n",
       "4  http://images.amazon.com/images/P/0002005018.0...   \n",
       "\n",
       "                                         Image-URL-L  \n",
       "0  http://images.amazon.com/images/P/0195153448.0...  \n",
       "1  http://images.amazon.com/images/P/0002005018.0...  \n",
       "2  http://images.amazon.com/images/P/0002005018.0...  \n",
       "3  http://images.amazon.com/images/P/0002005018.0...  \n",
       "4  http://images.amazon.com/images/P/0002005018.0...  "
      ]
     },
     "execution_count": 118,
     "metadata": {},
     "output_type": "execute_result"
    }
   ],
   "source": [
    "# Merge users and ratings on User-ID\n",
    "user_ratings_df = pd.merge(users_df, ratings_df, on=\"User-ID\")\n",
    "\n",
    "# Merge user_ratings and books on ISBN\n",
    "book_ratings_df = pd.merge(user_ratings_df, books_df, on=\"ISBN\")\n",
    "book_ratings_df.head()"
   ]
  },
  {
   "cell_type": "markdown",
   "id": "ed606fb8",
   "metadata": {},
   "source": [
    "### Perform Dataprocessing"
   ]
  },
  {
   "cell_type": "code",
   "execution_count": 119,
   "id": "cc8b52df",
   "metadata": {},
   "outputs": [
    {
     "name": "stdout",
     "output_type": "stream",
     "text": [
      "User-ID                     0\n",
      "Location                    0\n",
      "Age                    277835\n",
      "ISBN                        0\n",
      "Book-Rating                 0\n",
      "Book-Title                  0\n",
      "Book-Author                 1\n",
      "Year-Of-Publication         0\n",
      "Publisher                   2\n",
      "Image-URL-S                 0\n",
      "Image-URL-M                 0\n",
      "Image-URL-L                 4\n",
      "dtype: int64\n"
     ]
    }
   ],
   "source": [
    "# Count the number of missing values in each column of the book_ratings_df DataFrame\n",
    "missing_values_count = book_ratings_df.isnull().sum()\n",
    "\n",
    "# Print the resulting Series\n",
    "print(missing_values_count)\n"
   ]
  },
  {
   "cell_type": "code",
   "execution_count": 86,
   "id": "126dcd70",
   "metadata": {},
   "outputs": [
    {
     "name": "stdout",
     "output_type": "stream",
     "text": [
      "[0.0, 1.0, 2.0, 3.0, 4.0, 5.0, 6.0, 7.0, 8.0, 9.0, 10.0, 11.0, 12.0, 18.0, nan, 13.0, 14.0, 15.0, 16.0, 17.0, 19.0, 20.0, 21.0, 22.0, 23.0, 24.0, 25.0, 26.0, 27.0, 28.0, 29.0, 30.0, 31.0, 32.0, 33.0, 34.0, 35.0, 36.0, 37.0, 38.0, 39.0, 40.0, 41.0, 42.0, 43.0, 44.0, 45.0, 46.0, 47.0, 48.0, 49.0, 50.0, 51.0, 52.0, 53.0, 54.0, 55.0, 56.0, 57.0, 58.0, 59.0, 60.0, 61.0, 62.0, 63.0, 64.0, 65.0, 66.0, 67.0, 68.0, 69.0, 70.0, 71.0, 72.0, 73.0, 74.0, 75.0, 76.0, 77.0, 78.0, 79.0, 80.0, 81.0, 82.0, 83.0, 84.0, 85.0, 86.0, 89.0, 90.0, 92.0, 93.0, 94.0, 95.0, 96.0, 97.0, 98.0, 99.0, 100.0, 101.0, 103.0, 104.0, 105.0, 107.0, 108.0, 109.0, 114.0, 116.0, 118.0, 123.0, 124.0, 127.0, 128.0, 132.0, 133.0, 136.0, 138.0, 140.0, 141.0, 146.0, 147.0, 148.0, 151.0, 152.0, 156.0, 157.0, 168.0, 199.0, 200.0, 201.0, 204.0, 209.0, 212.0, 219.0, 220.0, 223.0, 226.0, 228.0, 229.0, 237.0, 239.0, 244.0]\n"
     ]
    }
   ],
   "source": [
    "## Check for all values present in Age column\n",
    "print(sorted(list(book_ratings_df['Age'].unique())))"
   ]
  },
  {
   "cell_type": "markdown",
   "id": "446499bb",
   "metadata": {},
   "source": [
    "### Treating age column"
   ]
  },
  {
   "cell_type": "code",
   "execution_count": 120,
   "id": "2b09456d",
   "metadata": {},
   "outputs": [],
   "source": [
    "## Treat incoorect age values\n",
    "book_ratings_df = book_ratings_df[(book_ratings_df['Age'] >= 10) & (book_ratings_df['Age'] <= 80)]"
   ]
  },
  {
   "cell_type": "code",
   "execution_count": 121,
   "id": "34a536d4",
   "metadata": {},
   "outputs": [
    {
     "name": "stdout",
     "output_type": "stream",
     "text": [
      "[10.0, 11.0, 12.0, 13.0, 14.0, 15.0, 16.0, 17.0, 18.0, 19.0, 20.0, 21.0, 22.0, 23.0, 24.0, 25.0, 26.0, 27.0, 28.0, 29.0, 30.0, 31.0, 32.0, 33.0, 34.0, 35.0, 36.0, 37.0, 38.0, 39.0, 40.0, 41.0, 42.0, 43.0, 44.0, 45.0, 46.0, 47.0, 48.0, 49.0, 50.0, 51.0, 52.0, 53.0, 54.0, 55.0, 56.0, 57.0, 58.0, 59.0, 60.0, 61.0, 62.0, 63.0, 64.0, 65.0, 66.0, 67.0, 68.0, 69.0, 70.0, 71.0, 72.0, 73.0, 74.0, 75.0, 76.0, 77.0, 78.0, 79.0, 80.0]\n"
     ]
    }
   ],
   "source": [
    "## Check for all values present in Age column\n",
    "print(sorted(list(book_ratings_df['Age'].unique())))"
   ]
  },
  {
   "cell_type": "code",
   "execution_count": 122,
   "id": "246d4e37",
   "metadata": {},
   "outputs": [
    {
     "data": {
      "text/html": [
       "<div>\n",
       "<style scoped>\n",
       "    .dataframe tbody tr th:only-of-type {\n",
       "        vertical-align: middle;\n",
       "    }\n",
       "\n",
       "    .dataframe tbody tr th {\n",
       "        vertical-align: top;\n",
       "    }\n",
       "\n",
       "    .dataframe thead th {\n",
       "        text-align: right;\n",
       "    }\n",
       "</style>\n",
       "<table border=\"1\" class=\"dataframe\">\n",
       "  <thead>\n",
       "    <tr style=\"text-align: right;\">\n",
       "      <th></th>\n",
       "      <th>User-ID</th>\n",
       "      <th>Location</th>\n",
       "      <th>Age</th>\n",
       "      <th>ISBN</th>\n",
       "      <th>Book-Rating</th>\n",
       "      <th>Book-Title</th>\n",
       "      <th>Book-Author</th>\n",
       "      <th>Year-Of-Publication</th>\n",
       "      <th>Publisher</th>\n",
       "      <th>Image-URL-S</th>\n",
       "      <th>Image-URL-M</th>\n",
       "      <th>Image-URL-L</th>\n",
       "    </tr>\n",
       "  </thead>\n",
       "  <tbody>\n",
       "    <tr>\n",
       "      <th>0</th>\n",
       "      <td>2</td>\n",
       "      <td>stockton, california, usa</td>\n",
       "      <td>18.0</td>\n",
       "      <td>0195153448</td>\n",
       "      <td>0</td>\n",
       "      <td>Classical Mythology</td>\n",
       "      <td>Mark P. O. Morford</td>\n",
       "      <td>2002</td>\n",
       "      <td>Oxford University Press</td>\n",
       "      <td>http://images.amazon.com/images/P/0195153448.0...</td>\n",
       "      <td>http://images.amazon.com/images/P/0195153448.0...</td>\n",
       "      <td>http://images.amazon.com/images/P/0195153448.0...</td>\n",
       "    </tr>\n",
       "    <tr>\n",
       "      <th>2</th>\n",
       "      <td>11400</td>\n",
       "      <td>ottawa, ontario, canada</td>\n",
       "      <td>49.0</td>\n",
       "      <td>0002005018</td>\n",
       "      <td>0</td>\n",
       "      <td>Clara Callan</td>\n",
       "      <td>Richard Bruce Wright</td>\n",
       "      <td>2001</td>\n",
       "      <td>HarperFlamingo Canada</td>\n",
       "      <td>http://images.amazon.com/images/P/0002005018.0...</td>\n",
       "      <td>http://images.amazon.com/images/P/0002005018.0...</td>\n",
       "      <td>http://images.amazon.com/images/P/0002005018.0...</td>\n",
       "    </tr>\n",
       "    <tr>\n",
       "      <th>5</th>\n",
       "      <td>67544</td>\n",
       "      <td>toronto, ontario, canada</td>\n",
       "      <td>30.0</td>\n",
       "      <td>0002005018</td>\n",
       "      <td>8</td>\n",
       "      <td>Clara Callan</td>\n",
       "      <td>Richard Bruce Wright</td>\n",
       "      <td>2001</td>\n",
       "      <td>HarperFlamingo Canada</td>\n",
       "      <td>http://images.amazon.com/images/P/0002005018.0...</td>\n",
       "      <td>http://images.amazon.com/images/P/0002005018.0...</td>\n",
       "      <td>http://images.amazon.com/images/P/0002005018.0...</td>\n",
       "    </tr>\n",
       "    <tr>\n",
       "      <th>6</th>\n",
       "      <td>85526</td>\n",
       "      <td>victoria, british columbia, canada</td>\n",
       "      <td>36.0</td>\n",
       "      <td>0002005018</td>\n",
       "      <td>0</td>\n",
       "      <td>Clara Callan</td>\n",
       "      <td>Richard Bruce Wright</td>\n",
       "      <td>2001</td>\n",
       "      <td>HarperFlamingo Canada</td>\n",
       "      <td>http://images.amazon.com/images/P/0002005018.0...</td>\n",
       "      <td>http://images.amazon.com/images/P/0002005018.0...</td>\n",
       "      <td>http://images.amazon.com/images/P/0002005018.0...</td>\n",
       "    </tr>\n",
       "    <tr>\n",
       "      <th>7</th>\n",
       "      <td>96054</td>\n",
       "      <td>ottawa, ontario, canada</td>\n",
       "      <td>29.0</td>\n",
       "      <td>0002005018</td>\n",
       "      <td>0</td>\n",
       "      <td>Clara Callan</td>\n",
       "      <td>Richard Bruce Wright</td>\n",
       "      <td>2001</td>\n",
       "      <td>HarperFlamingo Canada</td>\n",
       "      <td>http://images.amazon.com/images/P/0002005018.0...</td>\n",
       "      <td>http://images.amazon.com/images/P/0002005018.0...</td>\n",
       "      <td>http://images.amazon.com/images/P/0002005018.0...</td>\n",
       "    </tr>\n",
       "  </tbody>\n",
       "</table>\n",
       "</div>"
      ],
      "text/plain": [
       "   User-ID                            Location   Age        ISBN  Book-Rating  \\\n",
       "0        2           stockton, california, usa  18.0  0195153448            0   \n",
       "2    11400             ottawa, ontario, canada  49.0  0002005018            0   \n",
       "5    67544            toronto, ontario, canada  30.0  0002005018            8   \n",
       "6    85526  victoria, british columbia, canada  36.0  0002005018            0   \n",
       "7    96054             ottawa, ontario, canada  29.0  0002005018            0   \n",
       "\n",
       "            Book-Title           Book-Author Year-Of-Publication  \\\n",
       "0  Classical Mythology    Mark P. O. Morford                2002   \n",
       "2         Clara Callan  Richard Bruce Wright                2001   \n",
       "5         Clara Callan  Richard Bruce Wright                2001   \n",
       "6         Clara Callan  Richard Bruce Wright                2001   \n",
       "7         Clara Callan  Richard Bruce Wright                2001   \n",
       "\n",
       "                 Publisher                                        Image-URL-S  \\\n",
       "0  Oxford University Press  http://images.amazon.com/images/P/0195153448.0...   \n",
       "2    HarperFlamingo Canada  http://images.amazon.com/images/P/0002005018.0...   \n",
       "5    HarperFlamingo Canada  http://images.amazon.com/images/P/0002005018.0...   \n",
       "6    HarperFlamingo Canada  http://images.amazon.com/images/P/0002005018.0...   \n",
       "7    HarperFlamingo Canada  http://images.amazon.com/images/P/0002005018.0...   \n",
       "\n",
       "                                         Image-URL-M  \\\n",
       "0  http://images.amazon.com/images/P/0195153448.0...   \n",
       "2  http://images.amazon.com/images/P/0002005018.0...   \n",
       "5  http://images.amazon.com/images/P/0002005018.0...   \n",
       "6  http://images.amazon.com/images/P/0002005018.0...   \n",
       "7  http://images.amazon.com/images/P/0002005018.0...   \n",
       "\n",
       "                                         Image-URL-L  \n",
       "0  http://images.amazon.com/images/P/0195153448.0...  \n",
       "2  http://images.amazon.com/images/P/0002005018.0...  \n",
       "5  http://images.amazon.com/images/P/0002005018.0...  \n",
       "6  http://images.amazon.com/images/P/0002005018.0...  \n",
       "7  http://images.amazon.com/images/P/0002005018.0...  "
      ]
     },
     "execution_count": 122,
     "metadata": {},
     "output_type": "execute_result"
    }
   ],
   "source": [
    "# Calculate the median age value\n",
    "median_age = book_ratings_df['Age'].median()\n",
    "\n",
    "# Fill in the missing values with the median age value\n",
    "book_ratings_df['Age'].fillna(median_age, inplace=True)\n",
    "\n",
    "book_ratings_df.head()\n"
   ]
  },
  {
   "cell_type": "markdown",
   "id": "959ba184",
   "metadata": {},
   "source": [
    "#### DROP UNNECESSARY COLOUMNS IN THE DATASET"
   ]
  },
  {
   "cell_type": "code",
   "execution_count": 123,
   "id": "fae2a36e",
   "metadata": {
    "scrolled": false
   },
   "outputs": [],
   "source": [
    "book_ratings_df = book_ratings_df.drop(columns=[\"Image-URL-S\", \"Image-URL-M\", \"Image-URL-L\"])\n"
   ]
  },
  {
   "cell_type": "code",
   "execution_count": 124,
   "id": "a7c57746",
   "metadata": {},
   "outputs": [],
   "source": [
    "# Drop any duplicate rows\n",
    "book_ratings_df.drop_duplicates(inplace=True)\n",
    "\n",
    "## Drop row with missing publisher value \n",
    "book_ratings_df.dropna(subset=['Publisher'], inplace=True)\n"
   ]
  },
  {
   "cell_type": "code",
   "execution_count": 125,
   "id": "288c329f",
   "metadata": {},
   "outputs": [
    {
     "data": {
      "text/html": [
       "<div>\n",
       "<style scoped>\n",
       "    .dataframe tbody tr th:only-of-type {\n",
       "        vertical-align: middle;\n",
       "    }\n",
       "\n",
       "    .dataframe tbody tr th {\n",
       "        vertical-align: top;\n",
       "    }\n",
       "\n",
       "    .dataframe thead th {\n",
       "        text-align: right;\n",
       "    }\n",
       "</style>\n",
       "<table border=\"1\" class=\"dataframe\">\n",
       "  <thead>\n",
       "    <tr style=\"text-align: right;\">\n",
       "      <th></th>\n",
       "      <th>User-ID</th>\n",
       "      <th>Location</th>\n",
       "      <th>Age</th>\n",
       "      <th>ISBN</th>\n",
       "      <th>Book-Rating</th>\n",
       "      <th>Book-Title</th>\n",
       "      <th>Book-Author</th>\n",
       "      <th>Year-Of-Publication</th>\n",
       "      <th>Publisher</th>\n",
       "    </tr>\n",
       "  </thead>\n",
       "  <tbody>\n",
       "    <tr>\n",
       "      <th>0</th>\n",
       "      <td>2</td>\n",
       "      <td>stockton, california, usa</td>\n",
       "      <td>18.0</td>\n",
       "      <td>0195153448</td>\n",
       "      <td>0</td>\n",
       "      <td>Classical Mythology</td>\n",
       "      <td>Mark P. O. Morford</td>\n",
       "      <td>2002</td>\n",
       "      <td>Oxford University Press</td>\n",
       "    </tr>\n",
       "    <tr>\n",
       "      <th>2</th>\n",
       "      <td>11400</td>\n",
       "      <td>ottawa, ontario, canada</td>\n",
       "      <td>49.0</td>\n",
       "      <td>0002005018</td>\n",
       "      <td>0</td>\n",
       "      <td>Clara Callan</td>\n",
       "      <td>Richard Bruce Wright</td>\n",
       "      <td>2001</td>\n",
       "      <td>HarperFlamingo Canada</td>\n",
       "    </tr>\n",
       "    <tr>\n",
       "      <th>5</th>\n",
       "      <td>67544</td>\n",
       "      <td>toronto, ontario, canada</td>\n",
       "      <td>30.0</td>\n",
       "      <td>0002005018</td>\n",
       "      <td>8</td>\n",
       "      <td>Clara Callan</td>\n",
       "      <td>Richard Bruce Wright</td>\n",
       "      <td>2001</td>\n",
       "      <td>HarperFlamingo Canada</td>\n",
       "    </tr>\n",
       "    <tr>\n",
       "      <th>6</th>\n",
       "      <td>85526</td>\n",
       "      <td>victoria, british columbia, canada</td>\n",
       "      <td>36.0</td>\n",
       "      <td>0002005018</td>\n",
       "      <td>0</td>\n",
       "      <td>Clara Callan</td>\n",
       "      <td>Richard Bruce Wright</td>\n",
       "      <td>2001</td>\n",
       "      <td>HarperFlamingo Canada</td>\n",
       "    </tr>\n",
       "    <tr>\n",
       "      <th>7</th>\n",
       "      <td>96054</td>\n",
       "      <td>ottawa, ontario, canada</td>\n",
       "      <td>29.0</td>\n",
       "      <td>0002005018</td>\n",
       "      <td>0</td>\n",
       "      <td>Clara Callan</td>\n",
       "      <td>Richard Bruce Wright</td>\n",
       "      <td>2001</td>\n",
       "      <td>HarperFlamingo Canada</td>\n",
       "    </tr>\n",
       "  </tbody>\n",
       "</table>\n",
       "</div>"
      ],
      "text/plain": [
       "   User-ID                            Location   Age        ISBN  Book-Rating  \\\n",
       "0        2           stockton, california, usa  18.0  0195153448            0   \n",
       "2    11400             ottawa, ontario, canada  49.0  0002005018            0   \n",
       "5    67544            toronto, ontario, canada  30.0  0002005018            8   \n",
       "6    85526  victoria, british columbia, canada  36.0  0002005018            0   \n",
       "7    96054             ottawa, ontario, canada  29.0  0002005018            0   \n",
       "\n",
       "            Book-Title           Book-Author Year-Of-Publication  \\\n",
       "0  Classical Mythology    Mark P. O. Morford                2002   \n",
       "2         Clara Callan  Richard Bruce Wright                2001   \n",
       "5         Clara Callan  Richard Bruce Wright                2001   \n",
       "6         Clara Callan  Richard Bruce Wright                2001   \n",
       "7         Clara Callan  Richard Bruce Wright                2001   \n",
       "\n",
       "                 Publisher  \n",
       "0  Oxford University Press  \n",
       "2    HarperFlamingo Canada  \n",
       "5    HarperFlamingo Canada  \n",
       "6    HarperFlamingo Canada  \n",
       "7    HarperFlamingo Canada  "
      ]
     },
     "execution_count": 125,
     "metadata": {},
     "output_type": "execute_result"
    }
   ],
   "source": [
    "book_ratings_df.head()"
   ]
  },
  {
   "cell_type": "markdown",
   "id": "d8dcf459",
   "metadata": {},
   "source": [
    "#### Splitting location into City, State, and Country"
   ]
  },
  {
   "cell_type": "code",
   "execution_count": 126,
   "id": "e456386a",
   "metadata": {},
   "outputs": [],
   "source": [
    "# Create new columns for City, State, and Country\n",
    "book_ratings_df[['City', 'State', 'Country']] = book_ratings_df['Location'].str.split(',', n=2, expand=True)"
   ]
  },
  {
   "cell_type": "code",
   "execution_count": 127,
   "id": "fb4d1870",
   "metadata": {},
   "outputs": [
    {
     "data": {
      "text/html": [
       "<div>\n",
       "<style scoped>\n",
       "    .dataframe tbody tr th:only-of-type {\n",
       "        vertical-align: middle;\n",
       "    }\n",
       "\n",
       "    .dataframe tbody tr th {\n",
       "        vertical-align: top;\n",
       "    }\n",
       "\n",
       "    .dataframe thead th {\n",
       "        text-align: right;\n",
       "    }\n",
       "</style>\n",
       "<table border=\"1\" class=\"dataframe\">\n",
       "  <thead>\n",
       "    <tr style=\"text-align: right;\">\n",
       "      <th></th>\n",
       "      <th>User-ID</th>\n",
       "      <th>Location</th>\n",
       "      <th>Age</th>\n",
       "      <th>ISBN</th>\n",
       "      <th>Book-Rating</th>\n",
       "      <th>Book-Title</th>\n",
       "      <th>Book-Author</th>\n",
       "      <th>Year-Of-Publication</th>\n",
       "      <th>Publisher</th>\n",
       "      <th>City</th>\n",
       "      <th>State</th>\n",
       "      <th>Country</th>\n",
       "    </tr>\n",
       "  </thead>\n",
       "  <tbody>\n",
       "    <tr>\n",
       "      <th>0</th>\n",
       "      <td>2</td>\n",
       "      <td>stockton, california, usa</td>\n",
       "      <td>18.0</td>\n",
       "      <td>0195153448</td>\n",
       "      <td>0</td>\n",
       "      <td>Classical Mythology</td>\n",
       "      <td>Mark P. O. Morford</td>\n",
       "      <td>2002</td>\n",
       "      <td>Oxford University Press</td>\n",
       "      <td>stockton</td>\n",
       "      <td>california</td>\n",
       "      <td>usa</td>\n",
       "    </tr>\n",
       "    <tr>\n",
       "      <th>2</th>\n",
       "      <td>11400</td>\n",
       "      <td>ottawa, ontario, canada</td>\n",
       "      <td>49.0</td>\n",
       "      <td>0002005018</td>\n",
       "      <td>0</td>\n",
       "      <td>Clara Callan</td>\n",
       "      <td>Richard Bruce Wright</td>\n",
       "      <td>2001</td>\n",
       "      <td>HarperFlamingo Canada</td>\n",
       "      <td>ottawa</td>\n",
       "      <td>ontario</td>\n",
       "      <td>canada</td>\n",
       "    </tr>\n",
       "    <tr>\n",
       "      <th>5</th>\n",
       "      <td>67544</td>\n",
       "      <td>toronto, ontario, canada</td>\n",
       "      <td>30.0</td>\n",
       "      <td>0002005018</td>\n",
       "      <td>8</td>\n",
       "      <td>Clara Callan</td>\n",
       "      <td>Richard Bruce Wright</td>\n",
       "      <td>2001</td>\n",
       "      <td>HarperFlamingo Canada</td>\n",
       "      <td>toronto</td>\n",
       "      <td>ontario</td>\n",
       "      <td>canada</td>\n",
       "    </tr>\n",
       "    <tr>\n",
       "      <th>6</th>\n",
       "      <td>85526</td>\n",
       "      <td>victoria, british columbia, canada</td>\n",
       "      <td>36.0</td>\n",
       "      <td>0002005018</td>\n",
       "      <td>0</td>\n",
       "      <td>Clara Callan</td>\n",
       "      <td>Richard Bruce Wright</td>\n",
       "      <td>2001</td>\n",
       "      <td>HarperFlamingo Canada</td>\n",
       "      <td>victoria</td>\n",
       "      <td>british columbia</td>\n",
       "      <td>canada</td>\n",
       "    </tr>\n",
       "    <tr>\n",
       "      <th>7</th>\n",
       "      <td>96054</td>\n",
       "      <td>ottawa, ontario, canada</td>\n",
       "      <td>29.0</td>\n",
       "      <td>0002005018</td>\n",
       "      <td>0</td>\n",
       "      <td>Clara Callan</td>\n",
       "      <td>Richard Bruce Wright</td>\n",
       "      <td>2001</td>\n",
       "      <td>HarperFlamingo Canada</td>\n",
       "      <td>ottawa</td>\n",
       "      <td>ontario</td>\n",
       "      <td>canada</td>\n",
       "    </tr>\n",
       "  </tbody>\n",
       "</table>\n",
       "</div>"
      ],
      "text/plain": [
       "   User-ID                            Location   Age        ISBN  Book-Rating  \\\n",
       "0        2           stockton, california, usa  18.0  0195153448            0   \n",
       "2    11400             ottawa, ontario, canada  49.0  0002005018            0   \n",
       "5    67544            toronto, ontario, canada  30.0  0002005018            8   \n",
       "6    85526  victoria, british columbia, canada  36.0  0002005018            0   \n",
       "7    96054             ottawa, ontario, canada  29.0  0002005018            0   \n",
       "\n",
       "            Book-Title           Book-Author Year-Of-Publication  \\\n",
       "0  Classical Mythology    Mark P. O. Morford                2002   \n",
       "2         Clara Callan  Richard Bruce Wright                2001   \n",
       "5         Clara Callan  Richard Bruce Wright                2001   \n",
       "6         Clara Callan  Richard Bruce Wright                2001   \n",
       "7         Clara Callan  Richard Bruce Wright                2001   \n",
       "\n",
       "                 Publisher      City              State  Country  \n",
       "0  Oxford University Press  stockton         california      usa  \n",
       "2    HarperFlamingo Canada    ottawa            ontario   canada  \n",
       "5    HarperFlamingo Canada   toronto            ontario   canada  \n",
       "6    HarperFlamingo Canada  victoria   british columbia   canada  \n",
       "7    HarperFlamingo Canada    ottawa            ontario   canada  "
      ]
     },
     "execution_count": 127,
     "metadata": {},
     "output_type": "execute_result"
    }
   ],
   "source": [
    "book_ratings_df.head()"
   ]
  },
  {
   "cell_type": "code",
   "execution_count": 128,
   "id": "2ab8ee5c",
   "metadata": {},
   "outputs": [],
   "source": [
    "# Drop the Location column\n",
    "book_ratings_df.drop('Location', axis=1, inplace=True)"
   ]
  },
  {
   "cell_type": "code",
   "execution_count": 129,
   "id": "2a0a4e11",
   "metadata": {},
   "outputs": [
    {
     "name": "stdout",
     "output_type": "stream",
     "text": [
      "['stockton' 'ottawa' 'toronto' ... 'grasse' 'lower burrell' 'großostheim']\n"
     ]
    }
   ],
   "source": [
    "# Unique values in City column\n",
    "print(book_ratings_df['City'].unique())"
   ]
  },
  {
   "cell_type": "code",
   "execution_count": 130,
   "id": "1d05221a",
   "metadata": {},
   "outputs": [
    {
     "name": "stdout",
     "output_type": "stream",
     "text": [
      "[' california' ' ontario' ' british columbia' ... ' corrientes' ' taipei'\n",
      " ' ccp']\n"
     ]
    }
   ],
   "source": [
    "# Unique values in State column\n",
    "print(book_ratings_df['State'].unique())"
   ]
  },
  {
   "cell_type": "code",
   "execution_count": 131,
   "id": "b0e100d5",
   "metadata": {},
   "outputs": [],
   "source": [
    "# Count missing values in City, State, and Country columns\n",
    "missing_city = book_ratings_df['City'].isna().sum()\n",
    "missing_state = book_ratings_df['State'].isna().sum()\n",
    "missing_country = book_ratings_df['Country'].isna().sum()"
   ]
  },
  {
   "cell_type": "code",
   "execution_count": 132,
   "id": "0affdf2d",
   "metadata": {},
   "outputs": [
    {
     "name": "stdout",
     "output_type": "stream",
     "text": [
      "Missing City values: 0\n",
      "Missing State values: 0\n",
      "Missing Country values: 0\n"
     ]
    }
   ],
   "source": [
    "print(f\"Missing City values: {missing_city}\")\n",
    "print(f\"Missing State values: {missing_state}\")\n",
    "print(f\"Missing Country values: {missing_country}\")"
   ]
  },
  {
   "cell_type": "code",
   "execution_count": 301,
   "id": "f173eea1",
   "metadata": {},
   "outputs": [
    {
     "data": {
      "text/html": [
       "<div>\n",
       "<style scoped>\n",
       "    .dataframe tbody tr th:only-of-type {\n",
       "        vertical-align: middle;\n",
       "    }\n",
       "\n",
       "    .dataframe tbody tr th {\n",
       "        vertical-align: top;\n",
       "    }\n",
       "\n",
       "    .dataframe thead th {\n",
       "        text-align: right;\n",
       "    }\n",
       "</style>\n",
       "<table border=\"1\" class=\"dataframe\">\n",
       "  <thead>\n",
       "    <tr style=\"text-align: right;\">\n",
       "      <th></th>\n",
       "      <th>User-ID</th>\n",
       "      <th>Age</th>\n",
       "      <th>ISBN</th>\n",
       "      <th>Book-Rating</th>\n",
       "      <th>Book-Title</th>\n",
       "      <th>Book-Author</th>\n",
       "      <th>Year-Of-Publication</th>\n",
       "      <th>Publisher</th>\n",
       "      <th>City</th>\n",
       "      <th>State</th>\n",
       "      <th>Country</th>\n",
       "    </tr>\n",
       "  </thead>\n",
       "  <tbody>\n",
       "    <tr>\n",
       "      <th>0</th>\n",
       "      <td>2</td>\n",
       "      <td>18.0</td>\n",
       "      <td>0195153448</td>\n",
       "      <td>0</td>\n",
       "      <td>Classical Mythology</td>\n",
       "      <td>Mark P. O. Morford</td>\n",
       "      <td>2002</td>\n",
       "      <td>Oxford University Press</td>\n",
       "      <td>stockton</td>\n",
       "      <td>california</td>\n",
       "      <td>usa</td>\n",
       "    </tr>\n",
       "    <tr>\n",
       "      <th>2</th>\n",
       "      <td>11400</td>\n",
       "      <td>49.0</td>\n",
       "      <td>0002005018</td>\n",
       "      <td>0</td>\n",
       "      <td>Clara Callan</td>\n",
       "      <td>Richard Bruce Wright</td>\n",
       "      <td>2001</td>\n",
       "      <td>HarperFlamingo Canada</td>\n",
       "      <td>ottawa</td>\n",
       "      <td>ontario</td>\n",
       "      <td>canada</td>\n",
       "    </tr>\n",
       "    <tr>\n",
       "      <th>5</th>\n",
       "      <td>67544</td>\n",
       "      <td>30.0</td>\n",
       "      <td>0002005018</td>\n",
       "      <td>8</td>\n",
       "      <td>Clara Callan</td>\n",
       "      <td>Richard Bruce Wright</td>\n",
       "      <td>2001</td>\n",
       "      <td>HarperFlamingo Canada</td>\n",
       "      <td>toronto</td>\n",
       "      <td>ontario</td>\n",
       "      <td>canada</td>\n",
       "    </tr>\n",
       "    <tr>\n",
       "      <th>6</th>\n",
       "      <td>85526</td>\n",
       "      <td>36.0</td>\n",
       "      <td>0002005018</td>\n",
       "      <td>0</td>\n",
       "      <td>Clara Callan</td>\n",
       "      <td>Richard Bruce Wright</td>\n",
       "      <td>2001</td>\n",
       "      <td>HarperFlamingo Canada</td>\n",
       "      <td>victoria</td>\n",
       "      <td>british columbia</td>\n",
       "      <td>canada</td>\n",
       "    </tr>\n",
       "    <tr>\n",
       "      <th>7</th>\n",
       "      <td>96054</td>\n",
       "      <td>29.0</td>\n",
       "      <td>0002005018</td>\n",
       "      <td>0</td>\n",
       "      <td>Clara Callan</td>\n",
       "      <td>Richard Bruce Wright</td>\n",
       "      <td>2001</td>\n",
       "      <td>HarperFlamingo Canada</td>\n",
       "      <td>ottawa</td>\n",
       "      <td>ontario</td>\n",
       "      <td>canada</td>\n",
       "    </tr>\n",
       "  </tbody>\n",
       "</table>\n",
       "</div>"
      ],
      "text/plain": [
       "   User-ID   Age        ISBN  Book-Rating           Book-Title  \\\n",
       "0        2  18.0  0195153448            0  Classical Mythology   \n",
       "2    11400  49.0  0002005018            0         Clara Callan   \n",
       "5    67544  30.0  0002005018            8         Clara Callan   \n",
       "6    85526  36.0  0002005018            0         Clara Callan   \n",
       "7    96054  29.0  0002005018            0         Clara Callan   \n",
       "\n",
       "            Book-Author Year-Of-Publication                Publisher  \\\n",
       "0    Mark P. O. Morford                2002  Oxford University Press   \n",
       "2  Richard Bruce Wright                2001    HarperFlamingo Canada   \n",
       "5  Richard Bruce Wright                2001    HarperFlamingo Canada   \n",
       "6  Richard Bruce Wright                2001    HarperFlamingo Canada   \n",
       "7  Richard Bruce Wright                2001    HarperFlamingo Canada   \n",
       "\n",
       "       City              State  Country  \n",
       "0  stockton         california      usa  \n",
       "2    ottawa            ontario   canada  \n",
       "5   toronto            ontario   canada  \n",
       "6  victoria   british columbia   canada  \n",
       "7    ottawa            ontario   canada  "
      ]
     },
     "execution_count": 301,
     "metadata": {},
     "output_type": "execute_result"
    }
   ],
   "source": [
    "book_ratings_df.head()"
   ]
  },
  {
   "cell_type": "markdown",
   "id": "91fe91ea",
   "metadata": {},
   "source": [
    "####  Now dataset is clean  and ready for eda"
   ]
  },
  {
   "cell_type": "markdown",
   "id": "22ccfc03",
   "metadata": {},
   "source": [
    "## EDA AND ANALYSING THE RESULTS\n"
   ]
  },
  {
   "cell_type": "code",
   "execution_count": 133,
   "id": "5c90c22a",
   "metadata": {},
   "outputs": [
    {
     "data": {
      "image/png": "[encoded data removed]",
      "text/plain": [
       "<Figure size 432x288 with 1 Axes>"
      ]
     },
     "metadata": {
      "needs_background": "light"
     },
     "output_type": "display_data"
    }
   ],
   "source": [
    "# Count the number of occurrences of each rating value\n",
    "rating_counts = book_ratings_df['Book-Rating'].value_counts()\n",
    "\n",
    "# Plot a bar chart of the rating counts\n",
    "plt.bar(rating_counts.index, rating_counts.values)\n",
    "plt.xlabel('Rating')\n",
    "plt.ylabel('Count')\n",
    "plt.show()"
   ]
  },
  {
   "cell_type": "code",
   "execution_count": 143,
   "id": "4dcd1711",
   "metadata": {},
   "outputs": [
    {
     "name": "stdout",
     "output_type": "stream",
     "text": [
      "         Book-Rating_count  Book-Rating_mean\n",
      "User-ID                                     \n",
      "198711                6456          0.019052\n",
      "153662                5814          2.748710\n",
      "98391                 5777          8.727194\n",
      "76352                 3329          0.146891\n",
      "110973                2971          0.812858\n",
      "235105                2943          2.775059\n",
      "16795                 2920          2.334589\n",
      "230522                2857          0.917396\n",
      "204864                2461          1.790735\n",
      "36836                 2458          0.471115\n"
     ]
    }
   ],
   "source": [
    "# Group the dataframe by User-ID and calculate count of ratings and average rating\n",
    "user_behavior_df = book_ratings_df.groupby('User-ID').agg({'Book-Rating': ['count', 'mean']})\n",
    "\n",
    "# Flatten the multi-index column names\n",
    "user_behavior_df.columns = ['_'.join(col).strip() for col in user_behavior_df.columns.values]\n",
    "\n",
    "# Sort the dataframe by count of ratings in descending order\n",
    "user_behavior_df = user_behavior_df.sort_values(by='Book-Rating_count', ascending=False)\n",
    "\n",
    "# Print the top 10 users who have rated the most number of books and their average rating\n",
    "print(user_behavior_df[['Book-Rating_count', 'Book-Rating_mean']].head(10))\n"
   ]
  },
  {
   "cell_type": "markdown",
   "id": "83f4915c",
   "metadata": {},
   "source": [
    "### ANALYSIS\n",
    "\n",
    "This result shows the top 10 users in the dataset with the highest number of book ratings and their average book rating. User with ID 198711 has rated 6456 books but their average rating is very low at 0.019. User with ID 153662 has rated 5814 books with an average rating of 2.748, while User with ID 98391 has rated 5777 books with an average rating of 8.727, indicating a more positive rating behavior.\n",
    "\n",
    "The data suggests that there is a wide variation in the number of books rated by different users and the average rating given by them. It can also help in understanding the rating behavior of different users and how they rate books.\n",
    "\n"
   ]
  },
  {
   "cell_type": "code",
   "execution_count": 145,
   "id": "a2d6556c",
   "metadata": {},
   "outputs": [
    {
     "name": "stdout",
     "output_type": "stream",
     "text": [
      "       User-ID  Book-Rating\n",
      "0            2          0.0\n",
      "21274   186042          0.0\n",
      "21287   186524          0.0\n",
      "21286   186511          0.0\n",
      "21285   186504          0.0\n",
      "...        ...          ...\n",
      "21394   187386          0.0\n",
      "21393   187378          0.0\n",
      "21392   187377          0.0\n",
      "21391   187371          0.0\n",
      "21390   187368          0.0\n",
      "\n",
      "[150 rows x 2 columns]\n"
     ]
    }
   ],
   "source": [
    "# Filter out the rows where the book rating is 0\n",
    "zero_ratings = book_ratings_df[book_ratings_df['Book-Rating'] == 0]\n",
    "\n",
    "# Group the filtered dataframe by User-ID and calculate the mean rating\n",
    "user_ratings = zero_ratings.groupby('User-ID')['Book-Rating'].mean().reset_index()\n",
    "\n",
    "# Sort the dataframe by mean rating in descending order\n",
    "user_ratings.sort_values('Book-Rating', ascending=False, inplace=True)\n",
    "\n",
    "# Print the top 10 users with the highest average rating\n",
    "print(user_ratings.head(150))\n"
   ]
  },
  {
   "cell_type": "markdown",
   "id": "a2f37caf",
   "metadata": {},
   "source": [
    "### ANALYSIS \n",
    "\n",
    "From this analysis, we can infer that there are multiple users who have rated books as 0.0. This could be due to various reasons such as not reading the book, not liking the book, or forgetting to rate the book. These ratings could also affect the overall rating of the book, making it less reliable.\n",
    "\n",
    "It is important to note that we should consider removing such ratings from our analysis or taking them with a grain of salt while making any recommendations or inferences."
   ]
  },
  {
   "cell_type": "code",
   "execution_count": 147,
   "id": "deec3510",
   "metadata": {},
   "outputs": [
    {
     "name": "stdout",
     "output_type": "stream",
     "text": [
      "Number of users with average rating of 0.0: 13203\n"
     ]
    }
   ],
   "source": [
    "zero_rating_users = book_ratings_df.groupby('User-ID')['Book-Rating'].mean()\n",
    "zero_rating_users = zero_rating_users[zero_rating_users == 0.0]\n",
    "count_zero_rating_users = zero_rating_users.count()\n",
    "print(\"Number of users with average rating of 0.0:\", count_zero_rating_users)"
   ]
  },
  {
   "cell_type": "markdown",
   "id": "b11692df",
   "metadata": {},
   "source": [
    "Making a copy of dataframe and removing 0 rating values"
   ]
  },
  {
   "cell_type": "code",
   "execution_count": 134,
   "id": "07efe351",
   "metadata": {},
   "outputs": [],
   "source": [
    "##since majority of the dataset has 0 rating , it might be wise to treat this 0 \n",
    "## since we have most user who have rate one books as 0 , it might be wise to \n",
    "\n",
    "book_ratings_df_copy = book_ratings_df.copy()\n",
    "book_ratings_df_copy = book_ratings_df_copy[book_ratings_df_copy['Book-Rating'] != 0]\n"
   ]
  },
  {
   "cell_type": "code",
   "execution_count": 135,
   "id": "3be07309",
   "metadata": {
    "scrolled": true
   },
   "outputs": [
    {
     "data": {
      "image/png": "[encoded data removed]",
      "text/plain": [
       "<Figure size 432x288 with 1 Axes>"
      ]
     },
     "metadata": {
      "needs_background": "light"
     },
     "output_type": "display_data"
    }
   ],
   "source": [
    "\n",
    "# Count the number of occurrences of each rating value\n",
    "rating_counts = book_ratings_df_copy['Book-Rating'].value_counts()\n",
    "\n",
    "# Plot a bar chart of the rating counts\n",
    "plt.bar(rating_counts.index, rating_counts.values)\n",
    "plt.xlabel('Rating')\n",
    "plt.ylabel('Count')\n",
    "plt.show()\n"
   ]
  },
  {
   "cell_type": "code",
   "execution_count": 136,
   "id": "3c91f428",
   "metadata": {},
   "outputs": [
    {
     "name": "stdout",
     "output_type": "stream",
     "text": [
      "count    266847.000000\n",
      "mean         36.667555\n",
      "std          12.084171\n",
      "min          10.000000\n",
      "25%          28.000000\n",
      "50%          35.000000\n",
      "75%          45.000000\n",
      "max          80.000000\n",
      "Name: Age, dtype: float64\n"
     ]
    },
    {
     "data": {
      "image/png": "[encoded data removed]",
      "text/plain": [
       "<Figure size 432x288 with 1 Axes>"
      ]
     },
     "metadata": {
      "needs_background": "light"
     },
     "output_type": "display_data"
    },
    {
     "data": {
      "image/png": "[encoded data removed]",
      "text/plain": [
       "<Figure size 432x288 with 1 Axes>"
      ]
     },
     "metadata": {
      "needs_background": "light"
     },
     "output_type": "display_data"
    }
   ],
   "source": [
    "\n",
    "\n",
    "# Get summary statistics for the Age column\n",
    "age_stats = book_ratings_df_copy['Age'].describe()\n",
    "print(age_stats)\n",
    "\n",
    "# Plot a histogram of the Age column\n",
    "sns.histplot(data=book_ratings_df_copy, x='Age', bins=20)\n",
    "plt.xlabel('Age')\n",
    "plt.ylabel('Count')\n",
    "plt.show()\n",
    "\n",
    "# Plot a boxplot of the Age column\n",
    "sns.boxplot(data=book_ratings_df_copy, x='Age')\n",
    "plt.xlabel('Age')\n",
    "plt.show()\n"
   ]
  },
  {
   "cell_type": "markdown",
   "id": "4b21a9d8",
   "metadata": {},
   "source": [
    "### ANALYSIS OF AGE OF PEOPLE WHO RATED THE BOOK\n",
    "The mean age of users who rated the books is 36.67 years, with a standard deviation of 12.08. The youngest age in the dataset is 10 years, while the oldest age is 80 years.\n",
    "\n",
    "Overall, the dataset seems to be relatively evenly distributed in terms of age, with a majority of users falling between the ages of 28 and 45."
   ]
  },
  {
   "cell_type": "code",
   "execution_count": 140,
   "id": "bf500b50",
   "metadata": {},
   "outputs": [
    {
     "data": {
      "image/png": "[encoded data removed]",
      "text/plain": [
       "<Figure size 432x288 with 1 Axes>"
      ]
     },
     "metadata": {
      "needs_background": "light"
     },
     "output_type": "display_data"
    }
   ],
   "source": [
    "# Count the number of occurrences of each author\n",
    "author_counts = book_ratings_df_copy['Book-Author'].value_counts()\n",
    "\n",
    "# Plot a bar chart of the author counts for the top 20 authors\n",
    "top_authors = author_counts.head(20)\n",
    "plt.bar(top_authors.index, top_authors.values)\n",
    "plt.xticks(rotation=90)\n",
    "plt.xlabel('Author')\n",
    "plt.ylabel('Count')\n",
    "plt.show()\n"
   ]
  },
  {
   "cell_type": "code",
   "execution_count": 141,
   "id": "e47ef21e",
   "metadata": {},
   "outputs": [
    {
     "data": {
      "image/png": "[encoded data removed]",
      "text/plain": [
       "<Figure size 720x432 with 1 Axes>"
      ]
     },
     "metadata": {
      "needs_background": "light"
     },
     "output_type": "display_data"
    }
   ],
   "source": [
    "\n",
    "# Count the number of occurrences of each publisher\n",
    "publisher_counts = book_ratings_df_copy['Publisher'].value_counts()\n",
    "\n",
    "# Get the top 20 publishers by count\n",
    "top_publishers = publisher_counts[:20]\n",
    "\n",
    "# Create a bar chart of the top publishers\n",
    "plt.figure(figsize=(10, 6))\n",
    "plt.bar(top_publishers.index, top_publishers.values)\n",
    "plt.title('Top 20 Publishers by Book Count')\n",
    "plt.xlabel('Publisher')\n",
    "plt.ylabel('Book Count')\n",
    "plt.xticks(rotation=90)\n",
    "plt.show()\n",
    "\n"
   ]
  },
  {
   "cell_type": "code",
   "execution_count": 142,
   "id": "ecf8138c",
   "metadata": {},
   "outputs": [
    {
     "data": {
      "image/png": "[encoded data removed]",
      "text/plain": [
       "<Figure size 432x288 with 1 Axes>"
      ]
     },
     "metadata": {
      "needs_background": "light"
     },
     "output_type": "display_data"
    }
   ],
   "source": [
    "\n",
    "# Group the dataset by author and calculate the mean book rating for each author\n",
    "author_ratings = book_ratings_df_copy.groupby('Book-Author')['Book-Rating'].mean()\n",
    "\n",
    "# Sort the authors by their mean book rating in descending order\n",
    "author_ratings_sorted = author_ratings.sort_values(ascending=False)\n",
    "\n",
    "# Select the top 10 authors by mean book rating\n",
    "top_authors = author_ratings_sorted[:10]\n",
    "\n",
    "# Plot a bar chart of the selected authors and their mean book rating\n",
    "plt.bar(top_authors.index, top_authors.values)\n",
    "plt.title('Top Authors by Mean Book Rating')\n",
    "plt.xlabel('Author')\n",
    "plt.ylabel('Mean Book Rating')\n",
    "plt.xticks(rotation=90)\n",
    "plt.show()\n"
   ]
  },
  {
   "cell_type": "code",
   "execution_count": 304,
   "id": "f49d23cd",
   "metadata": {},
   "outputs": [
    {
     "data": {
      "text/plain": [
       "Book-Author\n",
       " D. Chiel              10.0\n",
       "Lee Edwards Benning    10.0\n",
       "Lee W. Meredith        10.0\n",
       "Lee Silber             10.0\n",
       "Lee R Bobker           10.0\n",
       "                       ... \n",
       "Sheri De Borchgrave     1.0\n",
       "Tony Rothman            1.0\n",
       "David Abrahamsen        1.0\n",
       "GÃ©rard de Villiers     1.0\n",
       "Bert Sugar              1.0\n",
       "Name: Book-Rating, Length: 50440, dtype: float64"
      ]
     },
     "execution_count": 304,
     "metadata": {},
     "output_type": "execute_result"
    }
   ],
   "source": [
    "author_ratings_sorted"
   ]
  },
  {
   "cell_type": "markdown",
   "id": "d2474792",
   "metadata": {},
   "source": [
    "This result shows a list of authors who have an average book rating of 10.0 based on the ratings data. This could suggest that these authors have a high level of reader satisfaction or that they have written relatively few books with high ratings."
   ]
  },
  {
   "cell_type": "code",
   "execution_count": 327,
   "id": "b5a4022d",
   "metadata": {},
   "outputs": [
    {
     "data": {
      "image/png": "[encoded data removed]",
      "text/plain": [
       "<Figure size 864x432 with 1 Axes>"
      ]
     },
     "metadata": {
      "needs_background": "light"
     },
     "output_type": "display_data"
    }
   ],
   "source": [
    "# Group the data by city and count the number of readers in each city\n",
    "city_counts = book_ratings_df_copy.groupby('City')['User-ID'].nunique()\n",
    "\n",
    "# Sort the cities by the number of readers in descending order\n",
    "city_counts = city_counts.sort_values(ascending=False)\n",
    "\n",
    "# Plot a bar chart of the city counts for the top 20 cities\n",
    "top_cities = city_counts.head(20)\n",
    "plt.figure(figsize=(12,6))\n",
    "plt.bar(top_cities.index, top_cities.values)\n",
    "plt.xticks(rotation=90)\n",
    "plt.xlabel('City')\n",
    "plt.ylabel('Number of Readers')\n",
    "plt.title('City-wise Analysis of Readers')\n",
    "plt.show()\n",
    "\n",
    "\n",
    "\n"
   ]
  },
  {
   "cell_type": "code",
   "execution_count": 156,
   "id": "6a46488f",
   "metadata": {},
   "outputs": [
    {
     "data": {
      "image/png": "[encoded data removed]",
      "text/plain": [
       "<Figure size 720x360 with 1 Axes>"
      ]
     },
     "metadata": {
      "needs_background": "light"
     },
     "output_type": "display_data"
    }
   ],
   "source": [
    "\n",
    "\n",
    "# Count the number of occurrences of each country\n",
    "country_counts = book_ratings_df['Country'].value_counts()\n",
    "\n",
    "# Plot a bar chart of the country counts for the top 20 countries\n",
    "top_countries = country_counts.head(20)\n",
    "plt.figure(figsize=(10,5))\n",
    "plt.bar(top_countries.index, top_countries.values)\n",
    "plt.title('Country-wise distribution of readers')\n",
    "plt.xlabel('Country')\n",
    "plt.ylabel('Number of readers')\n",
    "plt.xticks(rotation=90)\n",
    "plt.show()\n"
   ]
  },
  {
   "cell_type": "markdown",
   "id": "def62312",
   "metadata": {},
   "source": [
    "### ANALYSIS\n",
    "\n",
    "The analysis showed that the majority of book ratings were from users in the USA. If we were to use location as a factor in our recommendation system, it may not be the best indicator of book preference since the dataset is skewed towards one country. Other factors such as age or author preference may be more useful in making accurate recommendations."
   ]
  },
  {
   "cell_type": "markdown",
   "id": "ba72a71f",
   "metadata": {},
   "source": [
    "#### DATA FRAME TO BE USED FOR RECOMMENDATION SYSTEM"
   ]
  },
  {
   "cell_type": "code",
   "execution_count": 160,
   "id": "c388e3f3",
   "metadata": {},
   "outputs": [
    {
     "data": {
      "text/html": [
       "<div>\n",
       "<style scoped>\n",
       "    .dataframe tbody tr th:only-of-type {\n",
       "        vertical-align: middle;\n",
       "    }\n",
       "\n",
       "    .dataframe tbody tr th {\n",
       "        vertical-align: top;\n",
       "    }\n",
       "\n",
       "    .dataframe thead th {\n",
       "        text-align: right;\n",
       "    }\n",
       "</style>\n",
       "<table border=\"1\" class=\"dataframe\">\n",
       "  <thead>\n",
       "    <tr style=\"text-align: right;\">\n",
       "      <th></th>\n",
       "      <th>User-ID</th>\n",
       "      <th>Age</th>\n",
       "      <th>ISBN</th>\n",
       "      <th>Book-Rating</th>\n",
       "      <th>Book-Title</th>\n",
       "      <th>Book-Author</th>\n",
       "      <th>Year-Of-Publication</th>\n",
       "      <th>Publisher</th>\n",
       "      <th>City</th>\n",
       "      <th>State</th>\n",
       "      <th>Country</th>\n",
       "    </tr>\n",
       "  </thead>\n",
       "  <tbody>\n",
       "    <tr>\n",
       "      <th>5</th>\n",
       "      <td>67544</td>\n",
       "      <td>30.0</td>\n",
       "      <td>0002005018</td>\n",
       "      <td>8</td>\n",
       "      <td>Clara Callan</td>\n",
       "      <td>Richard Bruce Wright</td>\n",
       "      <td>2001</td>\n",
       "      <td>HarperFlamingo Canada</td>\n",
       "      <td>toronto</td>\n",
       "      <td>ontario</td>\n",
       "      <td>canada</td>\n",
       "    </tr>\n",
       "    <tr>\n",
       "      <th>13</th>\n",
       "      <td>219008</td>\n",
       "      <td>60.0</td>\n",
       "      <td>0002005018</td>\n",
       "      <td>7</td>\n",
       "      <td>Clara Callan</td>\n",
       "      <td>Richard Bruce Wright</td>\n",
       "      <td>2001</td>\n",
       "      <td>HarperFlamingo Canada</td>\n",
       "      <td>halifax</td>\n",
       "      <td>nova scotia</td>\n",
       "      <td>canada</td>\n",
       "    </tr>\n",
       "    <tr>\n",
       "      <th>14</th>\n",
       "      <td>263325</td>\n",
       "      <td>27.0</td>\n",
       "      <td>0002005018</td>\n",
       "      <td>6</td>\n",
       "      <td>Clara Callan</td>\n",
       "      <td>Richard Bruce Wright</td>\n",
       "      <td>2001</td>\n",
       "      <td>HarperFlamingo Canada</td>\n",
       "      <td>fredericton</td>\n",
       "      <td>new brunswick</td>\n",
       "      <td>canada</td>\n",
       "    </tr>\n",
       "    <tr>\n",
       "      <th>16</th>\n",
       "      <td>2954</td>\n",
       "      <td>71.0</td>\n",
       "      <td>0060973129</td>\n",
       "      <td>8</td>\n",
       "      <td>Decision in Normandy</td>\n",
       "      <td>Carlo D'Este</td>\n",
       "      <td>1991</td>\n",
       "      <td>HarperPerennial</td>\n",
       "      <td>wichita</td>\n",
       "      <td>kansas</td>\n",
       "      <td>usa</td>\n",
       "    </tr>\n",
       "    <tr>\n",
       "      <th>17</th>\n",
       "      <td>152827</td>\n",
       "      <td>40.0</td>\n",
       "      <td>0060973129</td>\n",
       "      <td>7</td>\n",
       "      <td>Decision in Normandy</td>\n",
       "      <td>Carlo D'Este</td>\n",
       "      <td>1991</td>\n",
       "      <td>HarperPerennial</td>\n",
       "      <td>ottawa</td>\n",
       "      <td>ontario</td>\n",
       "      <td>canada</td>\n",
       "    </tr>\n",
       "  </tbody>\n",
       "</table>\n",
       "</div>"
      ],
      "text/plain": [
       "    User-ID   Age        ISBN  Book-Rating            Book-Title  \\\n",
       "5     67544  30.0  0002005018            8          Clara Callan   \n",
       "13   219008  60.0  0002005018            7          Clara Callan   \n",
       "14   263325  27.0  0002005018            6          Clara Callan   \n",
       "16     2954  71.0  0060973129            8  Decision in Normandy   \n",
       "17   152827  40.0  0060973129            7  Decision in Normandy   \n",
       "\n",
       "             Book-Author Year-Of-Publication              Publisher  \\\n",
       "5   Richard Bruce Wright                2001  HarperFlamingo Canada   \n",
       "13  Richard Bruce Wright                2001  HarperFlamingo Canada   \n",
       "14  Richard Bruce Wright                2001  HarperFlamingo Canada   \n",
       "16          Carlo D'Este                1991        HarperPerennial   \n",
       "17          Carlo D'Este                1991        HarperPerennial   \n",
       "\n",
       "           City           State  Country  \n",
       "5       toronto         ontario   canada  \n",
       "13      halifax     nova scotia   canada  \n",
       "14  fredericton   new brunswick   canada  \n",
       "16      wichita          kansas      usa  \n",
       "17       ottawa         ontario   canada  "
      ]
     },
     "execution_count": 160,
     "metadata": {},
     "output_type": "execute_result"
    }
   ],
   "source": [
    "book_ratings_df_copy.head()"
   ]
  },
  {
   "cell_type": "markdown",
   "id": "2ed5fa4a",
   "metadata": {},
   "source": [
    "## Recomedation System"
   ]
  },
  {
   "cell_type": "markdown",
   "id": "117cd638",
   "metadata": {},
   "source": [
    "### Based on age and avgerage rating of Books"
   ]
  },
  {
   "cell_type": "code",
   "execution_count": 161,
   "id": "6770d758",
   "metadata": {},
   "outputs": [],
   "source": [
    "# Filter the book_ratings_df_copy dataframe\n",
    "filtered_df = book_ratings_df_copy[['Age', 'Book-Rating', 'Book-Title', 'Book-Author', 'Year-Of-Publication', 'Publisher']]\n",
    "\n",
    "# Calculate the mean rating for each book\n",
    "book_ratings_mean_df = filtered_df.groupby(['Book-Title', 'Book-Author', 'Year-Of-Publication', 'Publisher'])['Book-Rating'].mean().reset_index()"
   ]
  },
  {
   "cell_type": "code",
   "execution_count": 162,
   "id": "7a4d7548",
   "metadata": {},
   "outputs": [],
   "source": [
    "#  Merge the book_ratings_mean_df with the filtered_df\n",
    "merged_df = pd.merge(filtered_df, book_ratings_mean_df, on=['Book-Title', 'Book-Author', 'Year-Of-Publication', 'Publisher'])\n"
   ]
  },
  {
   "cell_type": "markdown",
   "id": "a046050f",
   "metadata": {},
   "source": [
    "##### PROMTS THE USER TO ENTER THEIR AGE AND RATING PREFERNCE "
   ]
  },
  {
   "cell_type": "code",
   "execution_count": 163,
   "id": "f43781ad",
   "metadata": {},
   "outputs": [
    {
     "name": "stdout",
     "output_type": "stream",
     "text": [
      "Enter your age: 21\n",
      "Enter the minimum rating you want to see: 5\n"
     ]
    }
   ],
   "source": [
    "age = int(input(\"Enter your age: \"))\n",
    "min_rating = float(input(\"Enter the minimum rating you want to see: \"))"
   ]
  },
  {
   "cell_type": "code",
   "execution_count": 172,
   "id": "2c7b7d32",
   "metadata": {},
   "outputs": [],
   "source": [
    "\n",
    "filtered_merged_df = merged_df[ (merged_df['Book-Rating_x'] >= min_rating)]"
   ]
  },
  {
   "cell_type": "code",
   "execution_count": 176,
   "id": "0f21b7f3",
   "metadata": {},
   "outputs": [],
   "source": [
    "# Recommended books dataframe\n",
    "recommended_books = book_ratings_df_copy.groupby(['ISBN', 'Book-Title', 'Book-Author', 'Year-Of-Publication', 'Publisher']) \\\n",
    "                .agg({'Book-Rating': 'mean', 'Age': 'count'}) \\\n",
    "                .reset_index() \\\n",
    "                .rename(columns={'Age': 'User-Count', 'Book-Rating': 'Mean-Rating'}) \\\n",
    "                .sort_values(by='Mean-Rating', ascending=False)\n",
    "\n",
    "# Dataframe with book title, author, and mean rating\n",
    "book_title_author_rating = recommended_books[['Book-Title', 'Book-Author', 'Mean-Rating']]\n",
    "\n",
    "# Dataframe with book title, author, year of publication, publisher, and mean rating\n",
    "book_details_rating = recommended_books[['Book-Title', 'Book-Author', 'Year-Of-Publication', 'Publisher', 'Mean-Rating']]\n",
    "\n"
   ]
  },
  {
   "cell_type": "code",
   "execution_count": 177,
   "id": "c789176c",
   "metadata": {},
   "outputs": [],
   "source": [
    "# Dataframe with book title, author, and mean rating\n",
    "book_title_author_rating = recommended_books[['Book-Title', 'Book-Author', 'Mean-Rating']]"
   ]
  },
  {
   "cell_type": "code",
   "execution_count": 179,
   "id": "d0ef4b1a",
   "metadata": {},
   "outputs": [
    {
     "name": "stdout",
     "output_type": "stream",
     "text": [
      "Recomended BOOK\n"
     ]
    },
    {
     "data": {
      "text/html": [
       "<div>\n",
       "<style scoped>\n",
       "    .dataframe tbody tr th:only-of-type {\n",
       "        vertical-align: middle;\n",
       "    }\n",
       "\n",
       "    .dataframe tbody tr th {\n",
       "        vertical-align: top;\n",
       "    }\n",
       "\n",
       "    .dataframe thead th {\n",
       "        text-align: right;\n",
       "    }\n",
       "</style>\n",
       "<table border=\"1\" class=\"dataframe\">\n",
       "  <thead>\n",
       "    <tr style=\"text-align: right;\">\n",
       "      <th></th>\n",
       "      <th>Book-Title</th>\n",
       "      <th>Book-Author</th>\n",
       "      <th>Mean-Rating</th>\n",
       "    </tr>\n",
       "  </thead>\n",
       "  <tbody>\n",
       "    <tr>\n",
       "      <th>13710</th>\n",
       "      <td>Depeche Mode: Some Great Reward</td>\n",
       "      <td>Dave Thompson</td>\n",
       "      <td>10.0</td>\n",
       "    </tr>\n",
       "    <tr>\n",
       "      <th>101798</th>\n",
       "      <td>World-walker</td>\n",
       "      <td>Melisa C. Michaels</td>\n",
       "      <td>10.0</td>\n",
       "    </tr>\n",
       "    <tr>\n",
       "      <th>13565</th>\n",
       "      <td>Religions of Asia</td>\n",
       "      <td>Niels Neilsen</td>\n",
       "      <td>10.0</td>\n",
       "    </tr>\n",
       "    <tr>\n",
       "      <th>101800</th>\n",
       "      <td>Trouble In The Forest: A Cold Summer Night, Bo...</td>\n",
       "      <td>TRYSTAM KITH</td>\n",
       "      <td>10.0</td>\n",
       "    </tr>\n",
       "    <tr>\n",
       "      <th>13562</th>\n",
       "      <td>Shakespeare on Love: Quotations from the Plays...</td>\n",
       "      <td>William Shakespeare</td>\n",
       "      <td>10.0</td>\n",
       "    </tr>\n",
       "    <tr>\n",
       "      <th>101801</th>\n",
       "      <td>The Lebo Coven</td>\n",
       "      <td>Stephen Mark Rainey</td>\n",
       "      <td>10.0</td>\n",
       "    </tr>\n",
       "    <tr>\n",
       "      <th>23474</th>\n",
       "      <td>Skeletons In Purple Sage (Worldwide Library My...</td>\n",
       "      <td>Barbara Burnett Smith</td>\n",
       "      <td>10.0</td>\n",
       "    </tr>\n",
       "    <tr>\n",
       "      <th>40298</th>\n",
       "      <td>Where People Fly &amp;amp; Water Runs Uphill : Usi...</td>\n",
       "      <td>Rev. Jeremy Taylor</td>\n",
       "      <td>10.0</td>\n",
       "    </tr>\n",
       "    <tr>\n",
       "      <th>83116</th>\n",
       "      <td>Beneath a Midnight Moon</td>\n",
       "      <td>Madeline Baker</td>\n",
       "      <td>10.0</td>\n",
       "    </tr>\n",
       "    <tr>\n",
       "      <th>13557</th>\n",
       "      <td>Beyond Jennifer and Jason: An enlightened guid...</td>\n",
       "      <td>Linda Rosenkrantz</td>\n",
       "      <td>10.0</td>\n",
       "    </tr>\n",
       "  </tbody>\n",
       "</table>\n",
       "</div>"
      ],
      "text/plain": [
       "                                               Book-Title  \\\n",
       "13710                     Depeche Mode: Some Great Reward   \n",
       "101798                                       World-walker   \n",
       "13565                                   Religions of Asia   \n",
       "101800  Trouble In The Forest: A Cold Summer Night, Bo...   \n",
       "13562   Shakespeare on Love: Quotations from the Plays...   \n",
       "101801                                     The Lebo Coven   \n",
       "23474   Skeletons In Purple Sage (Worldwide Library My...   \n",
       "40298   Where People Fly &amp; Water Runs Uphill : Usi...   \n",
       "83116                             Beneath a Midnight Moon   \n",
       "13557   Beyond Jennifer and Jason: An enlightened guid...   \n",
       "\n",
       "                  Book-Author  Mean-Rating  \n",
       "13710           Dave Thompson         10.0  \n",
       "101798     Melisa C. Michaels         10.0  \n",
       "13565           Niels Neilsen         10.0  \n",
       "101800           TRYSTAM KITH         10.0  \n",
       "13562     William Shakespeare         10.0  \n",
       "101801    Stephen Mark Rainey         10.0  \n",
       "23474   Barbara Burnett Smith         10.0  \n",
       "40298      Rev. Jeremy Taylor         10.0  \n",
       "83116          Madeline Baker         10.0  \n",
       "13557       Linda Rosenkrantz         10.0  "
      ]
     },
     "execution_count": 179,
     "metadata": {},
     "output_type": "execute_result"
    }
   ],
   "source": [
    "print('Recomended Books')\n",
    "book_title_author_rating.head(10)"
   ]
  },
  {
   "cell_type": "code",
   "execution_count": 180,
   "id": "3d4e5dc9",
   "metadata": {},
   "outputs": [],
   "source": [
    "# Dataframe with book title, author, year of publication, publisher, and mean rating\n",
    "book_details_rating = recommended_books[['Book-Title', 'Book-Author', 'Year-Of-Publication', 'Publisher', 'Mean-Rating']]"
   ]
  },
  {
   "cell_type": "code",
   "execution_count": 320,
   "id": "d21bbd0f",
   "metadata": {},
   "outputs": [
    {
     "name": "stdout",
     "output_type": "stream",
     "text": [
      "MORE INFORMATION ABOUT THE RECOMENDED BOOKS\n"
     ]
    },
    {
     "data": {
      "text/html": [
       "<div>\n",
       "<style scoped>\n",
       "    .dataframe tbody tr th:only-of-type {\n",
       "        vertical-align: middle;\n",
       "    }\n",
       "\n",
       "    .dataframe tbody tr th {\n",
       "        vertical-align: top;\n",
       "    }\n",
       "\n",
       "    .dataframe thead th {\n",
       "        text-align: right;\n",
       "    }\n",
       "</style>\n",
       "<table border=\"1\" class=\"dataframe\">\n",
       "  <thead>\n",
       "    <tr style=\"text-align: right;\">\n",
       "      <th></th>\n",
       "      <th>Book-Title</th>\n",
       "      <th>Book-Author</th>\n",
       "      <th>Year-Of-Publication</th>\n",
       "      <th>Publisher</th>\n",
       "      <th>Mean-Rating</th>\n",
       "    </tr>\n",
       "  </thead>\n",
       "  <tbody>\n",
       "    <tr>\n",
       "      <th>13710</th>\n",
       "      <td>Depeche Mode: Some Great Reward</td>\n",
       "      <td>Dave Thompson</td>\n",
       "      <td>1994</td>\n",
       "      <td>St. Martin's Press</td>\n",
       "      <td>10.0</td>\n",
       "    </tr>\n",
       "    <tr>\n",
       "      <th>101798</th>\n",
       "      <td>World-walker</td>\n",
       "      <td>Melisa C. Michaels</td>\n",
       "      <td>2004</td>\n",
       "      <td>Five Star (ME)</td>\n",
       "      <td>10.0</td>\n",
       "    </tr>\n",
       "    <tr>\n",
       "      <th>13565</th>\n",
       "      <td>Religions of Asia</td>\n",
       "      <td>Niels Neilsen</td>\n",
       "      <td>1993</td>\n",
       "      <td>Bedford Books</td>\n",
       "      <td>10.0</td>\n",
       "    </tr>\n",
       "    <tr>\n",
       "      <th>101800</th>\n",
       "      <td>Trouble In The Forest: A Cold Summer Night, Bo...</td>\n",
       "      <td>TRYSTAM KITH</td>\n",
       "      <td>2004</td>\n",
       "      <td>Five Star (ME)</td>\n",
       "      <td>10.0</td>\n",
       "    </tr>\n",
       "    <tr>\n",
       "      <th>13562</th>\n",
       "      <td>Shakespeare on Love: Quotations from the Plays...</td>\n",
       "      <td>William Shakespeare</td>\n",
       "      <td>1991</td>\n",
       "      <td>St. Martin's Press</td>\n",
       "      <td>10.0</td>\n",
       "    </tr>\n",
       "    <tr>\n",
       "      <th>101801</th>\n",
       "      <td>The Lebo Coven</td>\n",
       "      <td>Stephen Mark Rainey</td>\n",
       "      <td>2004</td>\n",
       "      <td>Five Star (ME)</td>\n",
       "      <td>10.0</td>\n",
       "    </tr>\n",
       "    <tr>\n",
       "      <th>23474</th>\n",
       "      <td>Skeletons In Purple Sage (Worldwide Library My...</td>\n",
       "      <td>Barbara Burnett Smith</td>\n",
       "      <td>2004</td>\n",
       "      <td>Worldwide Mystery</td>\n",
       "      <td>10.0</td>\n",
       "    </tr>\n",
       "    <tr>\n",
       "      <th>40298</th>\n",
       "      <td>Where People Fly &amp;amp; Water Runs Uphill : Usi...</td>\n",
       "      <td>Rev. Jeremy Taylor</td>\n",
       "      <td>1993</td>\n",
       "      <td>Warner Books</td>\n",
       "      <td>10.0</td>\n",
       "    </tr>\n",
       "    <tr>\n",
       "      <th>83116</th>\n",
       "      <td>Beneath a Midnight Moon</td>\n",
       "      <td>Madeline Baker</td>\n",
       "      <td>1994</td>\n",
       "      <td>Leisure Books</td>\n",
       "      <td>10.0</td>\n",
       "    </tr>\n",
       "    <tr>\n",
       "      <th>13557</th>\n",
       "      <td>Beyond Jennifer and Jason: An enlightened guid...</td>\n",
       "      <td>Linda Rosenkrantz</td>\n",
       "      <td>1990</td>\n",
       "      <td>St. Martin's Press</td>\n",
       "      <td>10.0</td>\n",
       "    </tr>\n",
       "  </tbody>\n",
       "</table>\n",
       "</div>"
      ],
      "text/plain": [
       "                                               Book-Title  \\\n",
       "13710                     Depeche Mode: Some Great Reward   \n",
       "101798                                       World-walker   \n",
       "13565                                   Religions of Asia   \n",
       "101800  Trouble In The Forest: A Cold Summer Night, Bo...   \n",
       "13562   Shakespeare on Love: Quotations from the Plays...   \n",
       "101801                                     The Lebo Coven   \n",
       "23474   Skeletons In Purple Sage (Worldwide Library My...   \n",
       "40298   Where People Fly &amp; Water Runs Uphill : Usi...   \n",
       "83116                             Beneath a Midnight Moon   \n",
       "13557   Beyond Jennifer and Jason: An enlightened guid...   \n",
       "\n",
       "                  Book-Author Year-Of-Publication           Publisher  \\\n",
       "13710           Dave Thompson                1994  St. Martin's Press   \n",
       "101798     Melisa C. Michaels                2004      Five Star (ME)   \n",
       "13565           Niels Neilsen                1993       Bedford Books   \n",
       "101800           TRYSTAM KITH                2004      Five Star (ME)   \n",
       "13562     William Shakespeare                1991  St. Martin's Press   \n",
       "101801    Stephen Mark Rainey                2004      Five Star (ME)   \n",
       "23474   Barbara Burnett Smith                2004   Worldwide Mystery   \n",
       "40298      Rev. Jeremy Taylor                1993        Warner Books   \n",
       "83116          Madeline Baker                1994       Leisure Books   \n",
       "13557       Linda Rosenkrantz                1990  St. Martin's Press   \n",
       "\n",
       "        Mean-Rating  \n",
       "13710          10.0  \n",
       "101798         10.0  \n",
       "13565          10.0  \n",
       "101800         10.0  \n",
       "13562          10.0  \n",
       "101801         10.0  \n",
       "23474          10.0  \n",
       "40298          10.0  \n",
       "83116          10.0  \n",
       "13557          10.0  "
      ]
     },
     "execution_count": 320,
     "metadata": {},
     "output_type": "execute_result"
    }
   ],
   "source": [
    "print(\"MORE INFORMATION ABOUT THE RECOMENDED BOOKS\")\n",
    "book_details_rating.head(10)"
   ]
  },
  {
   "cell_type": "markdown",
   "id": "ee418cb6",
   "metadata": {},
   "source": [
    "### SOME ALTERNATIVE RECOMEDATION METHODS\n"
   ]
  },
  {
   "cell_type": "markdown",
   "id": "29b2821c",
   "metadata": {},
   "source": [
    "### Average Weighted Ratings\n",
    "\n",
    "A breif introduction to Average Weighted Rating"
   ]
  },
  {
   "cell_type": "markdown",
   "id": "ea617f8c",
   "metadata": {},
   "source": [
    "1. The average weighted method is a popular technique used in recommendation systems to suggest items to users based on their      preferences and ratings.\n",
    "2. It is a hybrid method that combines the average rating of an item with the total number of ratings it has received.\n",
    "3. The goal is to provide more accurate recommendations by taking into account both the quality and popularity of an item.\n",
    "4. To calculate the weighted average, the number of ratings for an item is multiplied by its average rating and divided by the      total number of ratings across all items.\n",
    "5. The resulting score is used to rank the items and suggest the top choices to the user.\n",
    "6. This method is particularly useful when dealing with large datasets where popular items may have many ratings and less         popular items may have fewer ratings.\n"
   ]
  },
  {
   "cell_type": "code",
   "execution_count": 229,
   "id": "33057cc8",
   "metadata": {},
   "outputs": [
    {
     "data": {
      "text/html": [
       "<div>\n",
       "<style scoped>\n",
       "    .dataframe tbody tr th:only-of-type {\n",
       "        vertical-align: middle;\n",
       "    }\n",
       "\n",
       "    .dataframe tbody tr th {\n",
       "        vertical-align: top;\n",
       "    }\n",
       "\n",
       "    .dataframe thead th {\n",
       "        text-align: right;\n",
       "    }\n",
       "</style>\n",
       "<table border=\"1\" class=\"dataframe\">\n",
       "  <thead>\n",
       "    <tr style=\"text-align: right;\">\n",
       "      <th></th>\n",
       "      <th>Book-Title</th>\n",
       "      <th>Total-Ratings</th>\n",
       "      <th>Average Rating</th>\n",
       "    </tr>\n",
       "  </thead>\n",
       "  <tbody>\n",
       "    <tr>\n",
       "      <th>0</th>\n",
       "      <td>Wild Animus</td>\n",
       "      <td>471</td>\n",
       "      <td>4.486200</td>\n",
       "    </tr>\n",
       "    <tr>\n",
       "      <th>1</th>\n",
       "      <td>The Lovely Bones: A Novel</td>\n",
       "      <td>468</td>\n",
       "      <td>8.252137</td>\n",
       "    </tr>\n",
       "    <tr>\n",
       "      <th>2</th>\n",
       "      <td>The Da Vinci Code</td>\n",
       "      <td>371</td>\n",
       "      <td>8.428571</td>\n",
       "    </tr>\n",
       "    <tr>\n",
       "      <th>3</th>\n",
       "      <td>The Nanny Diaries: A Novel</td>\n",
       "      <td>245</td>\n",
       "      <td>7.522449</td>\n",
       "    </tr>\n",
       "    <tr>\n",
       "      <th>4</th>\n",
       "      <td>Harry Potter and the Chamber of Secrets (Book 2)</td>\n",
       "      <td>236</td>\n",
       "      <td>8.877119</td>\n",
       "    </tr>\n",
       "  </tbody>\n",
       "</table>\n",
       "</div>"
      ],
      "text/plain": [
       "                                         Book-Title  Total-Ratings  \\\n",
       "0                                       Wild Animus            471   \n",
       "1                         The Lovely Bones: A Novel            468   \n",
       "2                                 The Da Vinci Code            371   \n",
       "3                        The Nanny Diaries: A Novel            245   \n",
       "4  Harry Potter and the Chamber of Secrets (Book 2)            236   \n",
       "\n",
       "   Average Rating  \n",
       "0        4.486200  \n",
       "1        8.252137  \n",
       "2        8.428571  \n",
       "3        7.522449  \n",
       "4        8.877119  "
      ]
     },
     "execution_count": 229,
     "metadata": {},
     "output_type": "execute_result"
    }
   ],
   "source": [
    "def avgRating(newdf, df):\n",
    "    newdf['Average Rating'] = 0\n",
    "    for x in range(len(newdf)):\n",
    "        l = list(df.loc[df['Book-Title'] == newdf['Book-Title'][x]]['Book-Rating'])\n",
    "        newdf['Average Rating'][x] = sum(l)/len(l)\n",
    "    return newdf\n",
    "\n",
    "df = pd.DataFrame(book_ratings_df_copy['Book-Title'].value_counts())\n",
    "df['Total-Ratings'] = df['Book-Title']\n",
    "df['Book-Title'] = df.index\n",
    "df.reset_index(level=0, inplace=True)\n",
    "df = df.drop('index',axis=1)\n",
    "\n",
    "df = avgRating(df, book_ratings_df_copy)\n",
    "df.to_pickle('weightedData')\n",
    "\n",
    "df.head()\n"
   ]
  },
  {
   "cell_type": "code",
   "execution_count": 230,
   "id": "66f37445",
   "metadata": {},
   "outputs": [],
   "source": [
    "## C - Mean vote across the whole\n",
    "C = df['Average Rating'].mean()\n",
    "\n",
    "## Minimum number of votes required to be in the chart\n",
    "m = df['Total-Ratings'].quantile(0.90)"
   ]
  },
  {
   "cell_type": "code",
   "execution_count": 231,
   "id": "80a00727",
   "metadata": {},
   "outputs": [],
   "source": [
    "def weighted_rating(x, m=m, C=C): \n",
    "    v = x['Total-Ratings']    #v - number of votes\n",
    "    R = x['Average Rating']   #R - Average Rating   \n",
    "    return (v/(v+m) * R) + (m/(m+v) * C)"
   ]
  },
  {
   "cell_type": "code",
   "execution_count": 233,
   "id": "91b1bb81",
   "metadata": {},
   "outputs": [
    {
     "name": "stdout",
     "output_type": "stream",
     "text": [
      "Recommended Books:-\n",
      "\n"
     ]
    },
    {
     "data": {
      "text/html": [
       "<div>\n",
       "<style scoped>\n",
       "    .dataframe tbody tr th:only-of-type {\n",
       "        vertical-align: middle;\n",
       "    }\n",
       "\n",
       "    .dataframe tbody tr th {\n",
       "        vertical-align: top;\n",
       "    }\n",
       "\n",
       "    .dataframe thead th {\n",
       "        text-align: right;\n",
       "    }\n",
       "</style>\n",
       "<table border=\"1\" class=\"dataframe\">\n",
       "  <thead>\n",
       "    <tr style=\"text-align: right;\">\n",
       "      <th></th>\n",
       "      <th>Book-Title</th>\n",
       "      <th>Total-Ratings</th>\n",
       "      <th>Average Rating</th>\n",
       "      <th>score</th>\n",
       "    </tr>\n",
       "  </thead>\n",
       "  <tbody>\n",
       "    <tr>\n",
       "      <th>14</th>\n",
       "      <td>Harry Potter and the Goblet of Fire (Book 4)</td>\n",
       "      <td>186</td>\n",
       "      <td>9.247312</td>\n",
       "      <td>8.686879</td>\n",
       "    </tr>\n",
       "    <tr>\n",
       "      <th>10</th>\n",
       "      <td>Harry Potter and the Prisoner of Azkaban (Book 3)</td>\n",
       "      <td>212</td>\n",
       "      <td>9.160377</td>\n",
       "      <td>8.676266</td>\n",
       "    </tr>\n",
       "    <tr>\n",
       "      <th>8</th>\n",
       "      <td>Harry Potter and the Sorcerer's Stone (Harry P...</td>\n",
       "      <td>217</td>\n",
       "      <td>9.018433</td>\n",
       "      <td>8.599269</td>\n",
       "    </tr>\n",
       "    <tr>\n",
       "      <th>18</th>\n",
       "      <td>Harry Potter and the Order of the Phoenix (Boo...</td>\n",
       "      <td>177</td>\n",
       "      <td>9.107345</td>\n",
       "      <td>8.596136</td>\n",
       "    </tr>\n",
       "    <tr>\n",
       "      <th>4</th>\n",
       "      <td>Harry Potter and the Chamber of Secrets (Book 2)</td>\n",
       "      <td>236</td>\n",
       "      <td>8.877119</td>\n",
       "      <td>8.533773</td>\n",
       "    </tr>\n",
       "  </tbody>\n",
       "</table>\n",
       "</div>"
      ],
      "text/plain": [
       "                                           Book-Title  Total-Ratings  \\\n",
       "14       Harry Potter and the Goblet of Fire (Book 4)            186   \n",
       "10  Harry Potter and the Prisoner of Azkaban (Book 3)            212   \n",
       "8   Harry Potter and the Sorcerer's Stone (Harry P...            217   \n",
       "18  Harry Potter and the Order of the Phoenix (Boo...            177   \n",
       "4    Harry Potter and the Chamber of Secrets (Book 2)            236   \n",
       "\n",
       "    Average Rating     score  \n",
       "14        9.247312  8.686879  \n",
       "10        9.160377  8.676266  \n",
       "8         9.018433  8.599269  \n",
       "18        9.107345  8.596136  \n",
       "4         8.877119  8.533773  "
      ]
     },
     "execution_count": 233,
     "metadata": {},
     "output_type": "execute_result"
    }
   ],
   "source": [
    "df = df.loc[df['Total-Ratings'] >= m]\n",
    "\n",
    "df['score'] = df.apply(weighted_rating, axis=1)\n",
    "df = df.sort_values('score', ascending=False)\n",
    "\n",
    "print(\"Recommended Books:-\\n\")\n",
    "df.head(5)"
   ]
  },
  {
   "cell_type": "markdown",
   "id": "bae907a6",
   "metadata": {},
   "source": [
    "### ANALYSIS \n",
    "\n",
    "From the output of Average Weighted Ratings, we can see that the Harry Potter series books are very popular and have high average ratings. Harry Potter and the Goblet of Fire (Book 4) has the highest average rating, followed by Harry Potter and the Prisoner of Azkaban (Book 3), Harry Potter and the Sorcerer's Stone (Harry Potter (Paperback)), Harry Potter and the Order of the Phoenix (Book 5), and Harry Potter and the Chamber of Secrets (Book 2) in descending order.\n",
    "\n",
    "This information can be useful for recommending popular books to users who are interested in the Harry Potter series. We can use collaborative filtering to recommend books to users based on their preferences and ratings history."
   ]
  },
  {
   "cell_type": "markdown",
   "id": "1b671c97",
   "metadata": {},
   "source": [
    "## Collaborative Filtering \n",
    " A breif introduction "
   ]
  },
  {
   "cell_type": "markdown",
   "id": "334b2f25",
   "metadata": {},
   "source": [
    "Collaborative Filtering using cosine similarity is a type of recommendation system that uses past user behavior to recommend items to new users. In the given code, the following steps are taken to implement Collaborative Filtering:\n",
    "\n",
    "1. Create a popularity threshold to filter out less popular items\n",
    "2. Group the filtered items by ISBN and create a list of dictionaries containing the User-ID and Book-Rating pairs for each        group\n",
    "3. Convert the list of dictionaries into a sparse matrix using DictVectorizer\n",
    "4. Calculate the cosine similarity between each pair of items using the sparse matrix\n",
    "5. Define a function to print book details given an ISBN\n",
    "6. Define a function to get top recommendations for a given book based on its ISBN, using cosine similarity\n",
    "7. Get user input for a book name and output the top 5 recommended books based on Collaborative Filtering"
   ]
  },
  {
   "cell_type": "code",
   "execution_count": 266,
   "id": "e31e7bff",
   "metadata": {},
   "outputs": [],
   "source": [
    "from sklearn.feature_extraction import DictVectorizer\n",
    "from sklearn.metrics.pairwise import cosine_similarity"
   ]
  },
  {
   "cell_type": "code",
   "execution_count": 267,
   "id": "318ef9ad",
   "metadata": {},
   "outputs": [],
   "source": [
    "df1 = pd.DataFrame(book_ratings_df_copy['Book-Title'].value_counts())\n",
    "df1['Total-Ratings'] = df['Book-Title']\n",
    "df1['Book-Title'] = df1.index\n",
    "df1.reset_index(level=0, inplace=True)\n",
    "df1 = df1.drop('index',axis=1)\n",
    "\n",
    "df1 = book_ratings_df_copy.merge(df1, left_on = 'Book-Title', right_on = 'Book-Title', how = 'left')\n",
    "df1 = df1.drop(['Year-Of-Publication','Publisher','Age','City','State','Country'], axis=1)\n",
    "\n",
    "popularity_threshold = 50\n",
    "popular_book = df[df['Total-Ratings'] >= popularity_threshold]\n",
    "popular_book = popular_book.reset_index(drop = True)"
   ]
  },
  {
   "cell_type": "code",
   "execution_count": 268,
   "id": "ee99be7b",
   "metadata": {},
   "outputs": [],
   "source": [
    "df2 = pd.DataFrame()\n",
    "df2['ISBN'] = popular_book['ISBN']\n",
    "df2['Book-Rating'] = popular_book['Book-Rating']\n",
    "df2['User-ID'] = popular_book['User-ID']\n",
    "df2 = df2[['User-ID','Book-Rating']].groupby(df2['ISBN'])"
   ]
  },
  {
   "cell_type": "code",
   "execution_count": 269,
   "id": "55390e5c",
   "metadata": {},
   "outputs": [],
   "source": [
    "listOfDictonaries=[]\n",
    "indexMap = {}\n",
    "reverseIndexMap = {}\n",
    "ptr=0\n",
    "\n",
    "for groupKey in df2.groups.keys():\n",
    "    tempDict={}\n",
    "    groupDF = df2.get_group(groupKey)\n",
    "    for i in range(0,len(groupDF)):\n",
    "        tempDict[groupDF.iloc[i,0]] = groupDF.iloc[i,1]\n",
    "    indexMap[ptr]=groupKey\n",
    "    reverseIndexMap[groupKey] = ptr\n",
    "    ptr=ptr+1\n",
    "    listOfDictonaries.append(tempDict)\n",
    "\n",
    "dictVectorizer = DictVectorizer(sparse=True)\n",
    "vector = dictVectorizer.fit_transform(listOfDictonaries)\n",
    "pairwiseSimilarity = cosine_similarity(vector)"
   ]
  },
  {
   "cell_type": "code",
   "execution_count": 270,
   "id": "55df67ca",
   "metadata": {},
   "outputs": [],
   "source": [
    "def printBookDetails(bookID):\n",
    "    print(book_ratings_df_copy[book_ratings_df_copy['ISBN']==bookID]['Book-Title'].values[0])\n",
    "  "
   ]
  },
  {
   "cell_type": "code",
   "execution_count": 271,
   "id": "a7921ec0",
   "metadata": {},
   "outputs": [],
   "source": [
    "def getTopRecommandations(bookID):\n",
    "    collaborative = []\n",
    "    row = reverseIndexMap[bookID]\n",
    "    print(\"Input Book:\")\n",
    "    printBookDetails(bookID)\n",
    "    \n",
    "    print(\"\\nRECOMMENDATIONS:\\n\")\n",
    "    mn = 0\n",
    "    similar = []\n",
    "    for i in np.argsort(pairwiseSimilarity[row])[:-2][::-1]:\n",
    "          if book_ratings_df_copy[book_ratings_df_copy['ISBN']==indexMap[i]]['Book-Title'].values[0] not in similar:\n",
    "                if mn>=5:\n",
    "                      break\n",
    "                mn+=1\n",
    "                similar.append(book_ratings_df_copy[book_ratings_df_copy['ISBN']==indexMap[i]]['Book-Title'].values[0])\n",
    "                printBookDetails(indexMap[i])\n",
    "                collaborative.append(book_ratings_df_copy[book_ratings_df_copy['ISBN']==indexMap[i]]['Book-Title'].values[0])\n",
    "    return collaborative\n",
    "    "
   ]
  },
  {
   "cell_type": "code",
   "execution_count": 274,
   "id": "baea1450",
   "metadata": {},
   "outputs": [
    {
     "name": "stdout",
     "output_type": "stream",
     "text": [
      "Enter a book name: Harry Potter and the Sorcerer's Stone (Harry Potter (Paperback))\n"
     ]
    }
   ],
   "source": [
    "bookName = input(\"Enter a book name: \")"
   ]
  },
  {
   "cell_type": "code",
   "execution_count": 275,
   "id": "b1b3e9a1",
   "metadata": {},
   "outputs": [
    {
     "name": "stdout",
     "output_type": "stream",
     "text": [
      "Input Book:\n",
      "Harry Potter and the Sorcerer's Stone (Harry Potter (Paperback))\n",
      "\n",
      "RECOMMENDATIONS:\n",
      "\n",
      "Harry Potter and the Prisoner of Azkaban (Book 3)\n",
      "Harry Potter and the Goblet of Fire (Book 4)\n",
      "Harry Potter and the Order of the Phoenix (Book 5)\n",
      "Harry Potter and the Chamber of Secrets (Book 2)\n",
      "Fahrenheit 451\n"
     ]
    }
   ],
   "source": [
    "\n",
    "k = list(book_ratings_df_copy['Book-Title'])\n",
    "m = list(book_ratings_df_copy['ISBN'])\n",
    "\n",
    "collaborative = getTopRecommandations(m[k.index(bookName)])"
   ]
  },
  {
   "cell_type": "markdown",
   "id": "c3517766",
   "metadata": {},
   "source": [
    "##  Nearest Neighbour Based\n",
    "\n",
    "A breif introduction \n",
    "1. Nearest neighbor is a popular technique used in recommendation systems to identify similar items or users.\n",
    "2. It uses the concept of distance (usually cosine similarity) to find the nearest neighbors.\n",
    "3. Once the nearest neighbors are identified, the system can recommend items based on what similar users have liked or what        similar items have been liked by the user.\n",
    "4. Nearest neighbor algorithms can be implemented using different approaches, such as k-nearest neighbor, collaborative            filtering, or content-based filtering.\n"
   ]
  },
  {
   "cell_type": "code",
   "execution_count": 324,
   "id": "8c87d6ae",
   "metadata": {},
   "outputs": [],
   "source": [
    "from scipy.sparse import csr_matrix\n",
    "from sklearn.neighbors import NearestNeighbors\n"
   ]
  },
  {
   "cell_type": "code",
   "execution_count": 325,
   "id": "c7f81302",
   "metadata": {},
   "outputs": [],
   "source": [
    "data = (book_ratings_df_copy.groupby(by = ['Book-Title'])['Book-Rating'].count().reset_index().\n",
    "        rename(columns = {'Book-Rating': 'Total-Rating'})[['Book-Title', 'Total-Rating']])\n",
    "\n",
    "result = pd.merge(data, book_ratings_df_copy)\n",
    "result = result[result['Total-Rating'] >= popularity_threshold]\n",
    "result = result.reset_index(drop = True)\n",
    "\n",
    "matrix = result.pivot_table(index = 'Book-Title', columns = 'User-ID', values = 'Book-Rating').fillna(0)\n",
    "up_matrix = csr_matrix(matrix)"
   ]
  },
  {
   "cell_type": "code",
   "execution_count": 326,
   "id": "730e0d69",
   "metadata": {},
   "outputs": [
    {
     "name": "stdout",
     "output_type": "stream",
     "text": [
      "\n",
      "Recommended books:\n",
      "\n",
      "Harry Potter and the Chamber of Secrets (Book 2)\n",
      "Harry Potter and the Prisoner of Azkaban (Book 3)\n",
      "Harry Potter and the Goblet of Fire (Book 4)\n",
      "Harry Potter and the Order of the Phoenix (Book 5)\n",
      "Fahrenheit 451\n"
     ]
    }
   ],
   "source": [
    "model = NearestNeighbors(metric = 'cosine', algorithm = 'brute')\n",
    "model.fit(up_matrix)\n",
    "\n",
    "distances, indices = model.kneighbors(matrix.loc[bookName].values.reshape(1, -1), n_neighbors = 5+1)\n",
    "print(\"\\nRecommended books:\\n\")\n",
    "for i in range(0, len(distances.flatten())):\n",
    "    if i > 0:\n",
    "        print(matrix.index[indices.flatten()[i]]) "
   ]
  },
  {
   "cell_type": "markdown",
   "id": "ff4944a1",
   "metadata": {},
   "source": [
    "### For suggestions and queries contact \n",
    "Shambhavi Vats (shambhavivats2703@gmail.com)"
   ]
  }
 ],
 "metadata": {
  "kernelspec": {
   "display_name": "Python 3 (ipykernel)",
   "language": "python",
   "name": "python3"
  },
  "language_info": {
   "codemirror_mode": {
    "name": "ipython",
    "version": 3
   },
   "file_extension": ".py",
   "mimetype": "text/x-python",
   "name": "python",
   "nbconvert_exporter": "python",
   "pygments_lexer": "ipython3",
   "version": "3.9.12"
  }
 },
 "nbformat": 4,
 "nbformat_minor": 5
}
